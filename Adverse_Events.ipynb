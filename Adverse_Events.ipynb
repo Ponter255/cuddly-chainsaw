{
  "nbformat": 4,
  "nbformat_minor": 0,
  "metadata": {
    "colab": {
      "name": "Adverse Events.ipynb",
      "provenance": [],
      "toc_visible": true,
      "authorship_tag": "ABX9TyNtAhRfk9TFbLItAoIpQiZK",
      "include_colab_link": true
    },
    "kernelspec": {
      "name": "python3",
      "display_name": "Python 3"
    }
  },
  "cells": [
    {
      "cell_type": "markdown",
      "metadata": {
        "id": "view-in-github",
        "colab_type": "text"
      },
      "source": [
        "<a href=\"https://colab.research.google.com/github/Ponter255/cuddly-chainsaw/blob/master/Adverse_Events.ipynb\" target=\"_parent\"><img src=\"https://colab.research.google.com/assets/colab-badge.svg\" alt=\"Open In Colab\"/></a>"
      ]
    },
    {
      "cell_type": "markdown",
      "metadata": {
        "id": "gMA_pcBvpGKP",
        "colab_type": "text"
      },
      "source": [
        "# Adverse Events\n",
        "\n",
        "*   Create a NLP model that can predict a adverse event.\n",
        "\n",
        "---\n",
        "\n",
        "### 1. Modelling Database\n",
        "\n",
        "* First we need to clean the database and pick up only the useful information."
      ]
    },
    {
      "cell_type": "code",
      "metadata": {
        "id": "F1lGV7CEo_bG",
        "colab_type": "code",
        "outputId": "13e09846-1aa5-4831-fc19-c38861e327e7",
        "colab": {
          "base_uri": "https://localhost:8080/",
          "height": 555
        }
      },
      "source": [
        "from sklearn.naive_bayes                     import MultinomialNB\n",
        "from sklearn.feature_extraction.text         import CountVectorizer\n",
        "from collections                             import Counter\n",
        "from sklearn.model_selection                 import train_test_split\n",
        "from sklearn.feature_extraction.text         import TfidfTransformer\n",
        "from IPython.display                         import Image, display\n",
        "from IPython.core.display                    import HTML\n",
        "from numpy.random                            import randint\n",
        "from matplotlib.pyplot                       import figure\n",
        "from sklearn.ensemble                        import RandomForestClassifier\n",
        "from sklearn.svm                             import SVC\n",
        "from sklearn.metrics                         import accuracy_score, classification_report, confusion_matrix\n",
        "from sklearn.pipeline                        import Pipeline\n",
        "from sklearn.feature_extraction.text         import TfidfVectorizer\n",
        "from nltk.corpus                             import stopwords\n",
        "from bs4                                     import BeautifulSoup\n",
        "from collections                             import defaultdict\n",
        "from nltk.corpus                             import stopwords\n",
        "import pandas                                as pd\n",
        "import matplotlib.pyplot                     as plt\n",
        "import string\n",
        "import operator\n",
        "import functools\n",
        "import nltk\n",
        "import urllib.request\n",
        "\n",
        "\n",
        "dataset = pd.read_csv('Adverse Events.csv', sep = ';', encoding = \"utf-8\", error_bad_lines=False)\n",
        "dataset"
      ],
      "execution_count": 97,
      "outputs": [
        {
          "output_type": "execute_result",
          "data": {
            "text/html": [
              "<div>\n",
              "<style scoped>\n",
              "    .dataframe tbody tr th:only-of-type {\n",
              "        vertical-align: middle;\n",
              "    }\n",
              "\n",
              "    .dataframe tbody tr th {\n",
              "        vertical-align: top;\n",
              "    }\n",
              "\n",
              "    .dataframe thead th {\n",
              "        text-align: right;\n",
              "    }\n",
              "</style>\n",
              "<table border=\"1\" class=\"dataframe\">\n",
              "  <thead>\n",
              "    <tr style=\"text-align: right;\">\n",
              "      <th></th>\n",
              "      <th>Qual idade do paciente?</th>\n",
              "      <th>Qual medicamento que o paciente faz uso?</th>\n",
              "      <th>Houve relato de evento adverso e/ou situação especial?</th>\n",
              "      <th>Relator:</th>\n",
              "      <th>Medicamento suspeito:</th>\n",
              "      <th>Descrição do relato de farmacovigilância</th>\n",
              "      <th>Autorização de contato:</th>\n",
              "      <th>Confirmação da data do contato</th>\n",
              "      <th>Assunto abordado:</th>\n",
              "    </tr>\n",
              "  </thead>\n",
              "  <tbody>\n",
              "    <tr>\n",
              "      <th>0</th>\n",
              "      <td>25.0</td>\n",
              "      <td>Esbriet</td>\n",
              "      <td>Sim</td>\n",
              "      <td>Paciente</td>\n",
              "      <td>N</td>\n",
              "      <td>N</td>\n",
              "      <td>Sim</td>\n",
              "      <td>03/09/2018</td>\n",
              "      <td>Teste</td>\n",
              "    </tr>\n",
              "    <tr>\n",
              "      <th>1</th>\n",
              "      <td>20.0</td>\n",
              "      <td>Não iniciou o tratamento ainda</td>\n",
              "      <td>Sim</td>\n",
              "      <td>Cuidador</td>\n",
              "      <td>Seguro</td>\n",
              "      <td>Não</td>\n",
              "      <td>Sim</td>\n",
              "      <td>21/09/2018</td>\n",
              "      <td>Todos</td>\n",
              "    </tr>\n",
              "    <tr>\n",
              "      <th>2</th>\n",
              "      <td>61.0</td>\n",
              "      <td>Não iniciou o tratamento ainda</td>\n",
              "      <td>Não</td>\n",
              "      <td>NaN</td>\n",
              "      <td>NaN</td>\n",
              "      <td>NaN</td>\n",
              "      <td>NaN</td>\n",
              "      <td>NaN</td>\n",
              "      <td>espera pela liberação do medicamento</td>\n",
              "    </tr>\n",
              "    <tr>\n",
              "      <th>3</th>\n",
              "      <td>71.0</td>\n",
              "      <td>Não iniciou o tratamento ainda</td>\n",
              "      <td>Não</td>\n",
              "      <td>NaN</td>\n",
              "      <td>NaN</td>\n",
              "      <td>NaN</td>\n",
              "      <td>NaN</td>\n",
              "      <td>NaN</td>\n",
              "      <td>espera pelo medicamento e bem estar, diposição...</td>\n",
              "    </tr>\n",
              "    <tr>\n",
              "      <th>4</th>\n",
              "      <td>68.0</td>\n",
              "      <td>Esbriet</td>\n",
              "      <td>Sim</td>\n",
              "      <td>Paciente</td>\n",
              "      <td>esbriet</td>\n",
              "      <td>começa a ficar com um pouco de sono uns 20 min...</td>\n",
              "      <td>Sim</td>\n",
              "      <td>10/11/2018</td>\n",
              "      <td>sintomas físicos em geral</td>\n",
              "    </tr>\n",
              "    <tr>\n",
              "      <th>...</th>\n",
              "      <td>...</td>\n",
              "      <td>...</td>\n",
              "      <td>...</td>\n",
              "      <td>...</td>\n",
              "      <td>...</td>\n",
              "      <td>...</td>\n",
              "      <td>...</td>\n",
              "      <td>...</td>\n",
              "      <td>...</td>\n",
              "    </tr>\n",
              "    <tr>\n",
              "      <th>1085</th>\n",
              "      <td>73.0</td>\n",
              "      <td>Esbriet</td>\n",
              "      <td>Sim</td>\n",
              "      <td>Paciente</td>\n",
              "      <td>esbriet</td>\n",
              "      <td>Teve pneumonia estes dias; hoje tomou o último...</td>\n",
              "      <td>Sim, autoriza contato com o paciente., Sim, au...</td>\n",
              "      <td>25/10/2019</td>\n",
              "      <td>tratamento e saúde</td>\n",
              "    </tr>\n",
              "    <tr>\n",
              "      <th>1086</th>\n",
              "      <td>70.0</td>\n",
              "      <td>Esbriet</td>\n",
              "      <td>Não</td>\n",
              "      <td>NaN</td>\n",
              "      <td>NaN</td>\n",
              "      <td>NaN</td>\n",
              "      <td>NaN</td>\n",
              "      <td>NaN</td>\n",
              "      <td>saúde do paciente</td>\n",
              "    </tr>\n",
              "    <tr>\n",
              "      <th>1087</th>\n",
              "      <td>68.0</td>\n",
              "      <td>Esbriet</td>\n",
              "      <td>Sim</td>\n",
              "      <td>Paciente</td>\n",
              "      <td>esbriet</td>\n",
              "      <td>PAciente diz que  perdeu toda a massa muscular...</td>\n",
              "      <td>Sim, autoriza contato com o paciente., Sim, au...</td>\n",
              "      <td>26/10/2019</td>\n",
              "      <td>saúde física e mental</td>\n",
              "    </tr>\n",
              "    <tr>\n",
              "      <th>1088</th>\n",
              "      <td>69.0</td>\n",
              "      <td>Esbriet</td>\n",
              "      <td>Sim</td>\n",
              "      <td>Paciente</td>\n",
              "      <td>esbriet</td>\n",
              "      <td>Paciente referiu que seus últimos exames apont...</td>\n",
              "      <td>Sim, autoriza contato com o paciente., Sim, au...</td>\n",
              "      <td>26/10/2019</td>\n",
              "      <td>saúde</td>\n",
              "    </tr>\n",
              "    <tr>\n",
              "      <th>1089</th>\n",
              "      <td>15.0</td>\n",
              "      <td>Esbriet</td>\n",
              "      <td>Não</td>\n",
              "      <td>NaN</td>\n",
              "      <td>NaN</td>\n",
              "      <td>NaN</td>\n",
              "      <td>NaN</td>\n",
              "      <td>NaN</td>\n",
              "      <td>saúde</td>\n",
              "    </tr>\n",
              "  </tbody>\n",
              "</table>\n",
              "<p>1090 rows × 9 columns</p>\n",
              "</div>"
            ],
            "text/plain": [
              "      Qual idade do paciente?  ...                                  Assunto abordado:\n",
              "0                        25.0  ...                                              Teste\n",
              "1                        20.0  ...                                              Todos\n",
              "2                        61.0  ...               espera pela liberação do medicamento\n",
              "3                        71.0  ...  espera pelo medicamento e bem estar, diposição...\n",
              "4                        68.0  ...                          sintomas físicos em geral\n",
              "...                       ...  ...                                                ...\n",
              "1085                     73.0  ...                                 tratamento e saúde\n",
              "1086                     70.0  ...                                  saúde do paciente\n",
              "1087                     68.0  ...                              saúde física e mental\n",
              "1088                     69.0  ...                                              saúde\n",
              "1089                     15.0  ...                                              saúde\n",
              "\n",
              "[1090 rows x 9 columns]"
            ]
          },
          "metadata": {
            "tags": []
          },
          "execution_count": 97
        }
      ]
    },
    {
      "cell_type": "code",
      "metadata": {
        "id": "Jux04N6qwdns",
        "colab_type": "code",
        "outputId": "4c3f10c6-d143-4cdd-98ec-e13177b2ab6e",
        "colab": {
          "base_uri": "https://localhost:8080/",
          "height": 187
        }
      },
      "source": [
        "# Check how many fields are null in the dataset\n",
        "dataset.isnull().sum()"
      ],
      "execution_count": 98,
      "outputs": [
        {
          "output_type": "execute_result",
          "data": {
            "text/plain": [
              "Qual idade do paciente?                                     2\n",
              "Qual medicamento que o paciente faz uso?                    0\n",
              "Houve relato de evento adverso e/ou situação especial?      0\n",
              "Relator:                                                  482\n",
              "Medicamento suspeito:                                     482\n",
              "Descrição do relato de farmacovigilância                  482\n",
              "Autorização de contato:                                   482\n",
              "Confirmação da data do contato                            482\n",
              "Assunto abordado:                                           0\n",
              "dtype: int64"
            ]
          },
          "metadata": {
            "tags": []
          },
          "execution_count": 98
        }
      ]
    },
    {
      "cell_type": "code",
      "metadata": {
        "id": "YfV_im10wv1M",
        "colab_type": "code",
        "outputId": "abd88427-2e22-4482-af6d-e8f192d3151b",
        "colab": {
          "base_uri": "https://localhost:8080/",
          "height": 34
        }
      },
      "source": [
        "len(dataset)"
      ],
      "execution_count": 99,
      "outputs": [
        {
          "output_type": "execute_result",
          "data": {
            "text/plain": [
              "1090"
            ]
          },
          "metadata": {
            "tags": []
          },
          "execution_count": 99
        }
      ]
    },
    {
      "cell_type": "code",
      "metadata": {
        "id": "d7mtqS7bEURO",
        "colab_type": "code",
        "colab": {}
      },
      "source": [
        "# Target of the dataset\n",
        "indexResult = 2\n",
        "#Starting feature of the dataset\n",
        "indexReport = 5\n",
        "\n",
        "\n",
        "# Selecting reporting rows\n",
        "feature = dataset.iloc[:,indexReport]\n",
        "\n",
        "#Selecting result rows for Adverse Event\n",
        "target = dataset.iloc[:, indexResult]\n",
        "\n",
        "# See amount of values of each type for target\n",
        "target.value_counts()\n",
        "\n",
        "yesReports = dataset[dataset['Houve relato de evento adverso e/ou situação especial?']=='Sim']\n",
        "noReports = dataset[dataset['Houve relato de evento adverso e/ou situação especial?']=='Não']\n",
        "\n",
        "#data_train, data_test, target_train, target_test = train_test_split(feature, target, test_size=0.20, random_state=0)"
      ],
      "execution_count": 0,
      "outputs": []
    },
    {
      "cell_type": "code",
      "metadata": {
        "id": "_WwnJUfU1F-i",
        "colab_type": "code",
        "outputId": "c5674f10-caff-4279-8e10-0d84101c30f3",
        "colab": {
          "base_uri": "https://localhost:8080/",
          "height": 34
        }
      },
      "source": [
        "target.shape, feature.shape"
      ],
      "execution_count": 101,
      "outputs": [
        {
          "output_type": "execute_result",
          "data": {
            "text/plain": [
              "((1090,), (1090,))"
            ]
          },
          "metadata": {
            "tags": []
          },
          "execution_count": 101
        }
      ]
    },
    {
      "cell_type": "markdown",
      "metadata": {
        "id": "V0_HrHfcCSlO",
        "colab_type": "text"
      },
      "source": [
        "### Exploratory Data Analysis\n",
        "\n",
        "First of all let's clean our dataset from information that is not needed, such as null values\n",
        "\n",
        "*  **.iat** - Access a single value for a row/column pair by integer position."
      ]
    },
    {
      "cell_type": "code",
      "metadata": {
        "id": "Dk6tvx9zCR2v",
        "colab_type": "code",
        "outputId": "5aae5821-fe67-45a5-b997-7a0d6643f48a",
        "colab": {
          "base_uri": "https://localhost:8080/",
          "height": 589
        }
      },
      "source": [
        "#take out null values\n",
        "dataset =  dataset.dropna()\n",
        "dataset"
      ],
      "execution_count": 102,
      "outputs": [
        {
          "output_type": "execute_result",
          "data": {
            "text/html": [
              "<div>\n",
              "<style scoped>\n",
              "    .dataframe tbody tr th:only-of-type {\n",
              "        vertical-align: middle;\n",
              "    }\n",
              "\n",
              "    .dataframe tbody tr th {\n",
              "        vertical-align: top;\n",
              "    }\n",
              "\n",
              "    .dataframe thead th {\n",
              "        text-align: right;\n",
              "    }\n",
              "</style>\n",
              "<table border=\"1\" class=\"dataframe\">\n",
              "  <thead>\n",
              "    <tr style=\"text-align: right;\">\n",
              "      <th></th>\n",
              "      <th>Qual idade do paciente?</th>\n",
              "      <th>Qual medicamento que o paciente faz uso?</th>\n",
              "      <th>Houve relato de evento adverso e/ou situação especial?</th>\n",
              "      <th>Relator:</th>\n",
              "      <th>Medicamento suspeito:</th>\n",
              "      <th>Descrição do relato de farmacovigilância</th>\n",
              "      <th>Autorização de contato:</th>\n",
              "      <th>Confirmação da data do contato</th>\n",
              "      <th>Assunto abordado:</th>\n",
              "    </tr>\n",
              "  </thead>\n",
              "  <tbody>\n",
              "    <tr>\n",
              "      <th>0</th>\n",
              "      <td>25.0</td>\n",
              "      <td>Esbriet</td>\n",
              "      <td>Sim</td>\n",
              "      <td>Paciente</td>\n",
              "      <td>N</td>\n",
              "      <td>N</td>\n",
              "      <td>Sim</td>\n",
              "      <td>03/09/2018</td>\n",
              "      <td>Teste</td>\n",
              "    </tr>\n",
              "    <tr>\n",
              "      <th>1</th>\n",
              "      <td>20.0</td>\n",
              "      <td>Não iniciou o tratamento ainda</td>\n",
              "      <td>Sim</td>\n",
              "      <td>Cuidador</td>\n",
              "      <td>Seguro</td>\n",
              "      <td>Não</td>\n",
              "      <td>Sim</td>\n",
              "      <td>21/09/2018</td>\n",
              "      <td>Todos</td>\n",
              "    </tr>\n",
              "    <tr>\n",
              "      <th>4</th>\n",
              "      <td>68.0</td>\n",
              "      <td>Esbriet</td>\n",
              "      <td>Sim</td>\n",
              "      <td>Paciente</td>\n",
              "      <td>esbriet</td>\n",
              "      <td>começa a ficar com um pouco de sono uns 20 min...</td>\n",
              "      <td>Sim</td>\n",
              "      <td>10/11/2018</td>\n",
              "      <td>sintomas físicos em geral</td>\n",
              "    </tr>\n",
              "    <tr>\n",
              "      <th>6</th>\n",
              "      <td>69.0</td>\n",
              "      <td>Não iniciou o tratamento ainda</td>\n",
              "      <td>Sim</td>\n",
              "      <td>Cuidador</td>\n",
              "      <td>nenhum</td>\n",
              "      <td>Óbito do paciente há 15 dias</td>\n",
              "      <td>Sim</td>\n",
              "      <td>10/11/2018</td>\n",
              "      <td>óbito do paciente</td>\n",
              "    </tr>\n",
              "    <tr>\n",
              "      <th>9</th>\n",
              "      <td>68.0</td>\n",
              "      <td>Esbriet</td>\n",
              "      <td>Sim</td>\n",
              "      <td>Paciente</td>\n",
              "      <td>esbriet</td>\n",
              "      <td>Médico reduziu dose diária para 6 cps ao dia d...</td>\n",
              "      <td>Sim</td>\n",
              "      <td>10/11/2018</td>\n",
              "      <td>dificuldade de se adaptar à cidade para a qual...</td>\n",
              "    </tr>\n",
              "    <tr>\n",
              "      <th>...</th>\n",
              "      <td>...</td>\n",
              "      <td>...</td>\n",
              "      <td>...</td>\n",
              "      <td>...</td>\n",
              "      <td>...</td>\n",
              "      <td>...</td>\n",
              "      <td>...</td>\n",
              "      <td>...</td>\n",
              "      <td>...</td>\n",
              "    </tr>\n",
              "    <tr>\n",
              "      <th>1083</th>\n",
              "      <td>78.0</td>\n",
              "      <td>Esbriet</td>\n",
              "      <td>Sim</td>\n",
              "      <td>Cuidador</td>\n",
              "      <td>esbriet</td>\n",
              "      <td>Esposa referiu que ficou desesperada com os ef...</td>\n",
              "      <td>Sim, autoriza contato com o paciente., Sim, au...</td>\n",
              "      <td>25/10/2019</td>\n",
              "      <td>saúde do paciente</td>\n",
              "    </tr>\n",
              "    <tr>\n",
              "      <th>1084</th>\n",
              "      <td>78.0</td>\n",
              "      <td>Esbriet</td>\n",
              "      <td>Sim</td>\n",
              "      <td>Cuidador</td>\n",
              "      <td>esbriet</td>\n",
              "      <td>Filha contou que paciente está no terceiro vid...</td>\n",
              "      <td>Sim, autoriza contato com o paciente., Sim, au...</td>\n",
              "      <td>25/10/2019</td>\n",
              "      <td>saúde do paciente</td>\n",
              "    </tr>\n",
              "    <tr>\n",
              "      <th>1085</th>\n",
              "      <td>73.0</td>\n",
              "      <td>Esbriet</td>\n",
              "      <td>Sim</td>\n",
              "      <td>Paciente</td>\n",
              "      <td>esbriet</td>\n",
              "      <td>Teve pneumonia estes dias; hoje tomou o último...</td>\n",
              "      <td>Sim, autoriza contato com o paciente., Sim, au...</td>\n",
              "      <td>25/10/2019</td>\n",
              "      <td>tratamento e saúde</td>\n",
              "    </tr>\n",
              "    <tr>\n",
              "      <th>1087</th>\n",
              "      <td>68.0</td>\n",
              "      <td>Esbriet</td>\n",
              "      <td>Sim</td>\n",
              "      <td>Paciente</td>\n",
              "      <td>esbriet</td>\n",
              "      <td>PAciente diz que  perdeu toda a massa muscular...</td>\n",
              "      <td>Sim, autoriza contato com o paciente., Sim, au...</td>\n",
              "      <td>26/10/2019</td>\n",
              "      <td>saúde física e mental</td>\n",
              "    </tr>\n",
              "    <tr>\n",
              "      <th>1088</th>\n",
              "      <td>69.0</td>\n",
              "      <td>Esbriet</td>\n",
              "      <td>Sim</td>\n",
              "      <td>Paciente</td>\n",
              "      <td>esbriet</td>\n",
              "      <td>Paciente referiu que seus últimos exames apont...</td>\n",
              "      <td>Sim, autoriza contato com o paciente., Sim, au...</td>\n",
              "      <td>26/10/2019</td>\n",
              "      <td>saúde</td>\n",
              "    </tr>\n",
              "  </tbody>\n",
              "</table>\n",
              "<p>606 rows × 9 columns</p>\n",
              "</div>"
            ],
            "text/plain": [
              "      Qual idade do paciente?  ...                                  Assunto abordado:\n",
              "0                        25.0  ...                                              Teste\n",
              "1                        20.0  ...                                              Todos\n",
              "4                        68.0  ...                          sintomas físicos em geral\n",
              "6                        69.0  ...                                  óbito do paciente\n",
              "9                        68.0  ...  dificuldade de se adaptar à cidade para a qual...\n",
              "...                       ...  ...                                                ...\n",
              "1083                     78.0  ...                                  saúde do paciente\n",
              "1084                     78.0  ...                                  saúde do paciente\n",
              "1085                     73.0  ...                                 tratamento e saúde\n",
              "1087                     68.0  ...                              saúde física e mental\n",
              "1088                     69.0  ...                                              saúde\n",
              "\n",
              "[606 rows x 9 columns]"
            ]
          },
          "metadata": {
            "tags": []
          },
          "execution_count": 102
        }
      ]
    },
    {
      "cell_type": "markdown",
      "metadata": {
        "id": "csX9xYNDYV4j",
        "colab_type": "text"
      },
      "source": [
        "> Giving the data some negative answers in which we can improve the trainning of the model in order to have a better result                                   "
      ]
    },
    {
      "cell_type": "code",
      "metadata": {
        "id": "biHiiOUJYtYM",
        "colab_type": "code",
        "colab": {}
      },
      "source": [
        "negativeReport = {'Qual idade do paciente?':20, \n",
        "           'Qual medicamento que o paciente faz uso?':'Esbriet', \n",
        "            'Houve relato de evento adverso e/ou situação especial?':'Não', \n",
        "           'Relator:':'Paciente', 'Medicamento suspeito:':'esbriet',\n",
        "           'Descrição do relato de farmacovigilância':'Quando for viajar para o Japão, você nunca deve deixar gorjeta para nenhum tipo de serviço, eles entendem esse ato como disrepeito pelo serviço e demonstra que eles não ganham o suficiente.',\n",
        "           'Autorização de contato:':'Sim',\n",
        "           'Confirmação da data do contato':'03/09/2018',\n",
        "           'Assunto abordado:':'saúde do paciente'}\n",
        "\n",
        "negativeReport2 = {'Qual idade do paciente?':20, \n",
        "           'Qual medicamento que o paciente faz uso?':'Esbriet', \n",
        "            'Houve relato de evento adverso e/ou situação especial?':'Não', \n",
        "           'Relator:':'Paciente', 'Medicamento suspeito:':'esbriet',\n",
        "           'Descrição do relato de farmacovigilância':'Adoro assitir séries, meu gênero preferido é o de terror',\n",
        "           'Autorização de contato:':'Sim',\n",
        "           'Confirmação da data do contato':'03/09/2018',\n",
        "           'Assunto abordado:':'saúde do paciente'}\n",
        "  \n",
        "negativeReport3 = {'Qual idade do paciente?':20, \n",
        "           'Qual medicamento que o paciente faz uso?':'Esbriet', \n",
        "            'Houve relato de evento adverso e/ou situação especial?':'Não', \n",
        "           'Relator:':'Paciente', 'Medicamento suspeito:':'esbriet',\n",
        "           'Descrição do relato de farmacovigilância':'Gosto de esportes radicais, mas nunca fiz ou tentei nenhum deles',\n",
        "           'Autorização de contato:':'Sim',\n",
        "           'Confirmação da data do contato':'03/09/2018',\n",
        "           'Assunto abordado:':'saúde do paciente'}\n",
        "\n",
        "negativeReport4 = {'Qual idade do paciente?':20, \n",
        "           'Qual medicamento que o paciente faz uso?':'Esbriet', \n",
        "            'Houve relato de evento adverso e/ou situação especial?':'Não', \n",
        "           'Relator:':'Paciente', 'Medicamento suspeito:':'esbriet',\n",
        "           'Descrição do relato de farmacovigilância':'Já pensou sobre a vida, verdade e o universo? Tudo isso que vivemos é uma loucura.',\n",
        "           'Autorização de contato:':'Sim',\n",
        "           'Confirmação da data do contato':'03/09/2018',\n",
        "           'Assunto abordado:':'saúde do paciente'}\n",
        "\n",
        "negativeReport5 = {'Qual idade do paciente?':20, \n",
        "           'Qual medicamento que o paciente faz uso?':'Esbriet', \n",
        "           'Houve relato de evento adverso e/ou situação especial?':'Não', \n",
        "           'Relator:':'Cuidador', \n",
        "           'Medicamento suspeito:':'esbriet',\n",
        "           'Descrição do relato de farmacovigilância':'Eu adoro bolos e todo tipo de comida doce',\n",
        "           'Autorização de contato:':'Sim',\n",
        "           'Confirmação da data do contato':'03/09/2018',\n",
        "           'Assunto abordado:':'saúde do paciente'}\n",
        "\n",
        "dataset = dataset.append(negativeReport, ignore_index=True)\n",
        "dataset = dataset.append(negativeReport2, ignore_index=True)\n",
        "dataset = dataset.append(negativeReport3, ignore_index=True)\n",
        "dataset = dataset.append(negativeReport4, ignore_index=True)\n",
        "dataset = dataset.append(negativeReport5, ignore_index=True)"
      ],
      "execution_count": 0,
      "outputs": []
    },
    {
      "cell_type": "code",
      "metadata": {
        "id": "iTrsgCWocFdu",
        "colab_type": "code",
        "outputId": "8dd96013-dd70-47cb-c731-5c6aad2232b1",
        "colab": {
          "base_uri": "https://localhost:8080/",
          "height": 51
        }
      },
      "source": [
        "nltk.download('stopwords')\n",
        "stopwords = nltk.corpus.stopwords.words('portuguese')"
      ],
      "execution_count": 104,
      "outputs": [
        {
          "output_type": "stream",
          "text": [
            "[nltk_data] Downloading package stopwords to /root/nltk_data...\n",
            "[nltk_data]   Package stopwords is already up-to-date!\n"
          ],
          "name": "stdout"
        }
      ]
    },
    {
      "cell_type": "markdown",
      "metadata": {
        "id": "r1NGaSMUdMBY",
        "colab_type": "text"
      },
      "source": [
        "Create a dataframe for analysis"
      ]
    },
    {
      "cell_type": "code",
      "metadata": {
        "id": "7eP3Jc0AdOCR",
        "colab_type": "code",
        "outputId": "773e4515-5f1d-4822-cc92-e726fcfb8721",
        "colab": {
          "base_uri": "https://localhost:8080/",
          "height": 255
        }
      },
      "source": [
        "analysis = pd.DataFrame(columns=['Result','Report','Length'])\n",
        "punc=0\n",
        "i=0\n",
        "while i < len(dataset):\n",
        "  result = dataset.iat[i, 2]\n",
        "  report = dataset.iat[i, 5] \n",
        "  length = len(str(report))\n",
        "  new_row = {'Result':result,'Report':report, 'Length':length}\n",
        "  #append row to the dataframe\n",
        "  analysis = analysis.append(new_row, ignore_index=True)\n",
        "  i += 1\n",
        "\n",
        "analysis = analysis.drop([0,1],axis=0)\n",
        "print(analysis)"
      ],
      "execution_count": 105,
      "outputs": [
        {
          "output_type": "stream",
          "text": [
            "    Result                                             Report Length\n",
            "2      Sim  começa a ficar com um pouco de sono uns 20 min...     76\n",
            "3      Sim                       Óbito do paciente há 15 dias     28\n",
            "4      Sim  Médico reduziu dose diária para 6 cps ao dia d...    142\n",
            "5      Sim  Paciente às vezes toma 6 cps ao dia, às vezes ...    133\n",
            "6      Sim  No mês passado, muitas dores no corpo (doía at...    207\n",
            "..     ...                                                ...    ...\n",
            "606    Não  Quando for viajar para o Japão, você nunca dev...    189\n",
            "607    Não  Adoro assitir séries, meu gênero preferido é o...     56\n",
            "608    Não  Gosto de esportes radicais, mas nunca fiz ou t...     64\n",
            "609    Não  Já pensou sobre a vida, verdade e o universo? ...     82\n",
            "610    Não          Eu adoro bolos e todo tipo de comida doce     41\n",
            "\n",
            "[609 rows x 3 columns]\n"
          ],
          "name": "stdout"
        }
      ]
    },
    {
      "cell_type": "code",
      "metadata": {
        "id": "3-1NbpO8j5Ud",
        "colab_type": "code",
        "outputId": "3f9394d4-46ba-4ae6-8a3f-9d8749815319",
        "colab": {
          "base_uri": "https://localhost:8080/",
          "height": 265
        }
      },
      "source": [
        "%matplotlib inline\n",
        "plt.hist(analysis[analysis['Result']=='Sim']['Length'], bins = 100, alpha = 0.7)\n",
        "plt.show()"
      ],
      "execution_count": 106,
      "outputs": [
        {
          "output_type": "display_data",
          "data": {
            "image/png": "[encoded data removed]",
            "text/plain": [
              "<Figure size 432x288 with 1 Axes>"
            ]
          },
          "metadata": {
            "tags": [],
            "needs_background": "light"
          }
        }
      ]
    },
    {
      "cell_type": "code",
      "metadata": {
        "id": "N4gzLbHZyS2r",
        "colab_type": "code",
        "colab": {}
      },
      "source": [
        "#stopwords"
      ],
      "execution_count": 0,
      "outputs": []
    },
    {
      "cell_type": "code",
      "metadata": {
        "id": "1NL9WTiTBzAM",
        "colab_type": "code",
        "outputId": "91eabdd7-49a9-4edc-c6e0-3c5654a92d9f",
        "colab": {
          "base_uri": "https://localhost:8080/",
          "height": 894
        }
      },
      "source": [
        "textList = analysis['Report'].to_list()\n",
        "\n",
        "cleanList = []\n",
        "\n",
        "\n",
        "i=0\n",
        "while i < len(textList):\n",
        "   tokens =  textList[i].split()\n",
        "   i+=1\n",
        "   clean_tokens = tokens\n",
        "   for token in tokens:\n",
        "    if token in stopwords:\n",
        "         clean_tokens.remove(token)\n",
        "   cleanList.append(clean_tokens)\n",
        "\n",
        "\n",
        "word_freq = defaultdict(int)\n",
        "\n",
        "for item in cleanList:\n",
        "    for word in item:\n",
        "        word_freq[word] += 1\n",
        "\n",
        "teste = pd.DataFrame.from_dict(word_freq, orient='index') \\\n",
        ".sort_values(0, ascending=False) \\\n",
        ".rename(columns={0: 'abs_freq'})\n",
        "\n",
        "teste = teste.reset_index()\n",
        "\n",
        "teste = teste.rename({'index': 'Word'}, axis=1)\n",
        "\n",
        "i = teste[((teste.Word == 'esbriet'))].index\n",
        "teste = teste.drop(i)\n",
        "\n",
        "i = teste[((teste.Word == 'o'))].index\n",
        "teste = teste.drop(i)\n",
        "\n",
        "i = teste[((teste.Word == 'que'))].index\n",
        "teste = teste.drop(i)\n",
        "\n",
        "i = teste[((teste.Word == 'a'))].index\n",
        "teste = teste.drop(i)\n",
        "\n",
        "\n",
        "print(teste)\n",
        "teste = teste.head(10)\n",
        "\n",
        "\n",
        "teste.plot(kind='bar',x='Word',y='abs_freq', figsize=(20, 10))\n"
      ],
      "execution_count": 108,
      "outputs": [
        {
          "output_type": "stream",
          "text": [
            "          Word  abs_freq\n",
            "1     paciente       271\n",
            "2     Paciente       243\n",
            "4          cps       196\n",
            "5         dose       193\n",
            "6          uso       181\n",
            "...        ...       ...\n",
            "4698    abriam         1\n",
            "4699  feridas.         1\n",
            "4700    morrer         1\n",
            "4701    coçava         1\n",
            "4702      doce         1\n",
            "\n",
            "[4699 rows x 2 columns]\n"
          ],
          "name": "stdout"
        },
        {
          "output_type": "execute_result",
          "data": {
            "text/plain": [
              "<matplotlib.axes._subplots.AxesSubplot at 0x7f599a636128>"
            ]
          },
          "metadata": {
            "tags": []
          },
          "execution_count": 108
        },
        {
          "output_type": "display_data",
          "data": {
            "image/png": "[encoded data removed]",
            "text/plain": [
              "<Figure size 1440x720 with 1 Axes>"
            ]
          },
          "metadata": {
            "tags": [],
            "needs_background": "light"
          }
        }
      ]
    },
    {
      "cell_type": "markdown",
      "metadata": {
        "id": "4vZlpSTNXkIK",
        "colab_type": "text"
      },
      "source": [
        "## Applying NLP\n",
        "\n",
        "> ***sklearn.feature_extraction.text.TfidfVectorizer***: Convert a collection of raw documents to a matrix of **TF-IDF features**.\n",
        "\n",
        "*  In information retrieval, **TF-IDF**, short for term frequency–inverse document frequency, is a numerical statistic that is intended to reflect how important a word is to a document in a collection.\n",
        "\n",
        "*  It is often used as a weighting factor in searches of information retrieval, text mining, and user modeling. The tf–idf value increases proportionally to the number of times a word appears in the document and is offset by the number of documents in the corpus that contain the word.\n",
        "\n"
      ]
    },
    {
      "cell_type": "code",
      "metadata": {
        "id": "iyCTb0gqXqRK",
        "colab_type": "code",
        "outputId": "234699b5-1146-4736-e7b3-f513552a05d0",
        "colab": {
          "base_uri": "https://localhost:8080/",
          "height": 34
        }
      },
      "source": [
        "#This stratify parameter makes a split so that the proportion of values in the sample produced will be the same as the proportion of values provided to parameter stratify.\n",
        "feature_train, feature_test, result_train, result_test = train_test_split(analysis['Report'], analysis['Result'], test_size = 0.2, random_state=0)\n",
        "\n",
        "vectorizer = TfidfVectorizer()\n",
        "feature_vect = vectorizer.fit_transform(feature_train)\n",
        "\n",
        "feature_vect.shape"
      ],
      "execution_count": 109,
      "outputs": [
        {
          "output_type": "execute_result",
          "data": {
            "text/plain": [
              "(487, 2596)"
            ]
          },
          "metadata": {
            "tags": []
          },
          "execution_count": 109
        }
      ]
    },
    {
      "cell_type": "markdown",
      "metadata": {
        "id": "wT1fhB1ejaiQ",
        "colab_type": "text"
      },
      "source": [
        "### Pipeline \n",
        "\n",
        "* The purpose of the pipeline is to assemble several steps that can be cross-validated together while setting different parameters.\n",
        "\n",
        "---\n",
        "> **class sklearn.pipeline.Pipeline(steps, memory=None, verbose=False)**\n",
        "\n",
        "* **stepslist**: \n",
        "\n",
        "List of (name, transform) tuples (implementing fit/transform) that are chained, in the order in which they are chained, with the last object an estimator.\n",
        "\n",
        "* **memoryNone**:\n",
        "\n",
        "Used to cache the fitted transformers of the pipeline. By default, no caching is performed. If a string is given, it is the path to the caching directory. Enabling caching triggers a clone of the transformers before fitting. Therefore, the transformer instance given to the pipeline cannot be inspected directly. Use the attribute named_steps or steps to inspect estimators within the pipeline. Caching the transformers is advantageous when fitting is time consuming.\n",
        "\n",
        "* **verbosebool**:\n",
        "\n",
        "default=False\n",
        "If True, the time elapsed while fitting each step will be printed as it is completed.\n",
        "\n",
        "---\n",
        "\n",
        "[Decision Tree Algorithm](https://dataaspirant.com/2017/01/30/how-decision-tree-algorithm-works/): The information entropy, often just entropy, is a basic quantity in information theory associated to any random variable, which can be interpreted as the average level of \"information\", \"surprise\", or \"uncertainty\" inherent in the variable's possible outcomes. \n",
        "\n",
        "![Entropy](https://wikimedia.org/api/rest_v1/media/math/render/svg/971ffd75b32f284123036d4ae8fc3dd6e377e030)\n",
        "\n",
        "![Decision Tree](https://i0.wp.com/dataaspirant.com/wp-content/uploads/2017/01/B03905_05_01-compressor.png?resize=768%2C424&ssl=1)\n",
        "\n",
        "---\n",
        "\n",
        "### [Random Forest Classifier](https://dataaspirant.com/2017/05/22/random-forest-algorithm-machine-learing/)\n",
        "\n",
        "`Random forest algorithm can use both for classification and the regression kind of problems.`\n",
        "\n",
        "In general, the more trees in the forest the more robust the forest looks like. In the same way in the random forest classifier, the higher the number of trees in the forest gives the high accuracy results.\n",
        "\n",
        "In random forest algorithm, Instead of using information gain or gini index for calculating the root node, the process of finding the root node and splitting the feature nodes will happen randomly.\n",
        "\n",
        "To address the advantages of random forest algorithm, we have:\n",
        "\n",
        "* The same random forest algorithm or the random forest classifier can use for both classification and the regression task.\n",
        "\n",
        "* Random forest classifier will handle the missing values.\n",
        "\n",
        "* When we have more trees in the forest, random forest classifier won’t overfit the model.\n",
        "\n",
        "* Can model the random forest classifier for categorical values also.\n",
        "\n",
        "![alt text](https://i0.wp.com/dataaspirant.com/wp-content/uploads/2017/04/Random-Forest-Example.jpg?w=700&ssl=1)\n",
        "\n",
        "---\n"
      ]
    },
    {
      "cell_type": "code",
      "metadata": {
        "id": "q3jvCcoUjf69",
        "colab_type": "code",
        "outputId": "fe044a73-9b75-4972-f76b-25dbd559f9f2",
        "colab": {
          "base_uri": "https://localhost:8080/",
          "height": 425
        }
      },
      "source": [
        "clf = Pipeline([('tfidf', TfidfVectorizer()), ('clf', RandomForestClassifier(n_estimators=100, n_jobs=-1))])\n",
        "clf.fit(feature_train, result_train)"
      ],
      "execution_count": 110,
      "outputs": [
        {
          "output_type": "execute_result",
          "data": {
            "text/plain": [
              "Pipeline(memory=None,\n",
              "         steps=[('tfidf',\n",
              "                 TfidfVectorizer(analyzer='word', binary=False,\n",
              "                                 decode_error='strict',\n",
              "                                 dtype=<class 'numpy.float64'>,\n",
              "                                 encoding='utf-8', input='content',\n",
              "                                 lowercase=True, max_df=1.0, max_features=None,\n",
              "                                 min_df=1, ngram_range=(1, 1), norm='l2',\n",
              "                                 preprocessor=None, smooth_idf=True,\n",
              "                                 stop_words=None, strip_accents=None,\n",
              "                                 sublinear_tf=False,\n",
              "                                 token_pattern='...\n",
              "                 RandomForestClassifier(bootstrap=True, ccp_alpha=0.0,\n",
              "                                        class_weight=None, criterion='gini',\n",
              "                                        max_depth=None, max_features='auto',\n",
              "                                        max_leaf_nodes=None, max_samples=None,\n",
              "                                        min_impurity_decrease=0.0,\n",
              "                                        min_impurity_split=None,\n",
              "                                        min_samples_leaf=1, min_samples_split=2,\n",
              "                                        min_weight_fraction_leaf=0.0,\n",
              "                                        n_estimators=100, n_jobs=-1,\n",
              "                                        oob_score=False, random_state=None,\n",
              "                                        verbose=0, warm_start=False))],\n",
              "         verbose=False)"
            ]
          },
          "metadata": {
            "tags": []
          },
          "execution_count": 110
        }
      ]
    },
    {
      "cell_type": "markdown",
      "metadata": {
        "id": "tGlgQOU4MnRK",
        "colab_type": "text"
      },
      "source": [
        "## Confusion Matrix\n",
        "\n",
        "![alt text](https://drive.google.com/uc?id=1dSqSQI_mnZPCA9b0eMmFHBMzGr6c6V6F)"
      ]
    },
    {
      "cell_type": "code",
      "metadata": {
        "id": "QC-XsV-qpJWw",
        "colab_type": "code",
        "outputId": "03b29e98-7ce5-40f2-8218-2d26841549cc",
        "colab": {
          "base_uri": "https://localhost:8080/",
          "height": 224
        }
      },
      "source": [
        "result_pred = clf.predict(feature_test)\n",
        "print(classification_report(result_test, result_pred))"
      ],
      "execution_count": 111,
      "outputs": [
        {
          "output_type": "stream",
          "text": [
            "              precision    recall  f1-score   support\n",
            "\n",
            "         Não       0.00      0.00      0.00         1\n",
            "         Sim       0.99      1.00      1.00       121\n",
            "\n",
            "    accuracy                           0.99       122\n",
            "   macro avg       0.50      0.50      0.50       122\n",
            "weighted avg       0.98      0.99      0.99       122\n",
            "\n"
          ],
          "name": "stdout"
        },
        {
          "output_type": "stream",
          "text": [
            "/usr/local/lib/python3.6/dist-packages/sklearn/metrics/_classification.py:1272: UndefinedMetricWarning: Precision and F-score are ill-defined and being set to 0.0 in labels with no predicted samples. Use `zero_division` parameter to control this behavior.\n",
            "  _warn_prf(average, modifier, msg_start, len(result))\n"
          ],
          "name": "stderr"
        }
      ]
    },
    {
      "cell_type": "code",
      "metadata": {
        "id": "di2SuXb0pnDZ",
        "colab_type": "code",
        "outputId": "7fbdfdd0-2441-4f7a-e090-6dd72e7be529",
        "colab": {
          "base_uri": "https://localhost:8080/",
          "height": 34
        }
      },
      "source": [
        "accuracy_score(result_test, result_pred)"
      ],
      "execution_count": 112,
      "outputs": [
        {
          "output_type": "execute_result",
          "data": {
            "text/plain": [
              "0.9918032786885246"
            ]
          },
          "metadata": {
            "tags": []
          },
          "execution_count": 112
        }
      ]
    },
    {
      "cell_type": "code",
      "metadata": {
        "id": "F87Eev0VpwdM",
        "colab_type": "code",
        "outputId": "39c032ce-9854-4160-d77b-82c5a2b7b3a0",
        "colab": {
          "base_uri": "https://localhost:8080/",
          "height": 34
        }
      },
      "source": [
        "# Should result in \"Não\"\n",
        "clf.predict([\"Adoro bolo\"])"
      ],
      "execution_count": 113,
      "outputs": [
        {
          "output_type": "execute_result",
          "data": {
            "text/plain": [
              "array(['Sim'], dtype=object)"
            ]
          },
          "metadata": {
            "tags": []
          },
          "execution_count": 113
        }
      ]
    },
    {
      "cell_type": "code",
      "metadata": {
        "id": "Lz1KSkZih6H5",
        "colab_type": "code",
        "outputId": "0ec3889c-e50f-4699-e341-aa265deb351f",
        "colab": {
          "base_uri": "https://localhost:8080/",
          "height": 34
        }
      },
      "source": [
        "# Should result in \"Não\"\n",
        "clf.predict([\"Após tomar o remédio parei de sentir cansaço na parte da tarde\"])"
      ],
      "execution_count": 114,
      "outputs": [
        {
          "output_type": "execute_result",
          "data": {
            "text/plain": [
              "array(['Sim'], dtype=object)"
            ]
          },
          "metadata": {
            "tags": []
          },
          "execution_count": 114
        }
      ]
    },
    {
      "cell_type": "markdown",
      "metadata": {
        "id": "4crN3y8AhDIW",
        "colab_type": "text"
      },
      "source": [
        "---\n",
        "\n",
        "### [Support Vector Machines (SVM)](https://monkeylearn.com/blog/introduction-to-support-vector-machines-svm/)\n",
        "\n",
        "\n",
        "It is a fast and dependable classification algorithm that performs very well with a limited amount of data.\n",
        "\n",
        "* Let’s imagine we have two tags: red and blue, and our data has two features: x and y. We want a classifier that, given a pair of (x,y) coordinates, outputs if it’s either red or blue.\n",
        "\n",
        "* A support vector machine takes these data points and outputs the hyperplane (which in two dimensions it’s simply a line) that best separates the tags. This line is the decision boundary: anything that falls to one side of it we will classify as blue, and anything that falls to the other as red.\n",
        "\n",
        "\n",
        "![alt text](https://monkeylearn.com/blog/wp-content/uploads/2017/06/plot_hyperplanes_annotated.png)"
      ]
    },
    {
      "cell_type": "code",
      "metadata": {
        "id": "3_FxF3PghtHF",
        "colab_type": "code",
        "outputId": "affb495e-f20f-41e6-9dd7-c4fc7fc61ce0",
        "colab": {
          "base_uri": "https://localhost:8080/",
          "height": 391
        }
      },
      "source": [
        "clf = Pipeline([('tfidf', TfidfVectorizer()), ('clf', SVC(C = 1000, gamma = 'auto'))])\n",
        "clf.fit(feature_train, result_train)"
      ],
      "execution_count": 115,
      "outputs": [
        {
          "output_type": "execute_result",
          "data": {
            "text/plain": [
              "Pipeline(memory=None,\n",
              "         steps=[('tfidf',\n",
              "                 TfidfVectorizer(analyzer='word', binary=False,\n",
              "                                 decode_error='strict',\n",
              "                                 dtype=<class 'numpy.float64'>,\n",
              "                                 encoding='utf-8', input='content',\n",
              "                                 lowercase=True, max_df=1.0, max_features=None,\n",
              "                                 min_df=1, ngram_range=(1, 1), norm='l2',\n",
              "                                 preprocessor=None, smooth_idf=True,\n",
              "                                 stop_words=None, strip_accents=None,\n",
              "                                 sublinear_tf=False,\n",
              "                                 token_pattern='(?u)\\\\b\\\\w\\\\w+\\\\b',\n",
              "                                 tokenizer=None, use_idf=True,\n",
              "                                 vocabulary=None)),\n",
              "                ('clf',\n",
              "                 SVC(C=1000, break_ties=False, cache_size=200,\n",
              "                     class_weight=None, coef0=0.0,\n",
              "                     decision_function_shape='ovr', degree=3, gamma='auto',\n",
              "                     kernel='rbf', max_iter=-1, probability=False,\n",
              "                     random_state=None, shrinking=True, tol=0.001,\n",
              "                     verbose=False))],\n",
              "         verbose=False)"
            ]
          },
          "metadata": {
            "tags": []
          },
          "execution_count": 115
        }
      ]
    },
    {
      "cell_type": "code",
      "metadata": {
        "id": "JTXlU-AVjl3Y",
        "colab_type": "code",
        "outputId": "cf295d76-55c6-4ab3-9ccd-5adc23cc8f46",
        "colab": {
          "base_uri": "https://localhost:8080/",
          "height": 224
        }
      },
      "source": [
        "result_pred = clf.predict(feature_test)\n",
        "print(classification_report(result_test, result_pred))"
      ],
      "execution_count": 116,
      "outputs": [
        {
          "output_type": "stream",
          "text": [
            "              precision    recall  f1-score   support\n",
            "\n",
            "         Não       0.00      0.00      0.00         1\n",
            "         Sim       0.99      1.00      1.00       121\n",
            "\n",
            "    accuracy                           0.99       122\n",
            "   macro avg       0.50      0.50      0.50       122\n",
            "weighted avg       0.98      0.99      0.99       122\n",
            "\n"
          ],
          "name": "stdout"
        },
        {
          "output_type": "stream",
          "text": [
            "/usr/local/lib/python3.6/dist-packages/sklearn/metrics/_classification.py:1272: UndefinedMetricWarning: Precision and F-score are ill-defined and being set to 0.0 in labels with no predicted samples. Use `zero_division` parameter to control this behavior.\n",
            "  _warn_prf(average, modifier, msg_start, len(result))\n"
          ],
          "name": "stderr"
        }
      ]
    },
    {
      "cell_type": "code",
      "metadata": {
        "id": "aUpJn2gGj-Sx",
        "colab_type": "code",
        "outputId": "407069b7-2bca-4cc3-fea6-b7577b76ccd9",
        "colab": {
          "base_uri": "https://localhost:8080/",
          "height": 34
        }
      },
      "source": [
        "accuracy_score(result_test, result_pred)"
      ],
      "execution_count": 117,
      "outputs": [
        {
          "output_type": "execute_result",
          "data": {
            "text/plain": [
              "0.9918032786885246"
            ]
          },
          "metadata": {
            "tags": []
          },
          "execution_count": 117
        }
      ]
    },
    {
      "cell_type": "code",
      "metadata": {
        "id": "ypfs-p_GkB_y",
        "colab_type": "code",
        "outputId": "0e051305-3407-41fd-ca6f-a2775ac78452",
        "colab": {
          "base_uri": "https://localhost:8080/",
          "height": 34
        }
      },
      "source": [
        "# Should result in \"Não\"\n",
        "clf.predict([\"Leio livros que são desanimadores\"])"
      ],
      "execution_count": 118,
      "outputs": [
        {
          "output_type": "execute_result",
          "data": {
            "text/plain": [
              "array(['Sim'], dtype=object)"
            ]
          },
          "metadata": {
            "tags": []
          },
          "execution_count": 118
        }
      ]
    },
    {
      "cell_type": "markdown",
      "metadata": {
        "id": "9f3Y87zY2XU_",
        "colab_type": "text"
      },
      "source": [
        "---\n",
        "\n",
        "### [Fast Text](https://towardsdatascience.com/fasttext-under-the-hood-11efc57b2b3)\n",
        "\n",
        "Previous work [here](https://docs.google.com/presentation/d/1v2Eacsg3xa8C7RJa9P_9tZQ8Q3W3sczsfHkrR3wroe0/edit#slide=id.g6d12a584d4_0_0)"
      ]
    }
  ]
}