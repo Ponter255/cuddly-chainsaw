{
  "nbformat": 4,
  "nbformat_minor": 0,
  "metadata": {
    "colab": {
      "name": "Linear Regression.ipynb",
      "provenance": [],
      "collapsed_sections": [],
      "authorship_tag": "ABX9TyPBK6mHuh9h6pXd+XP38yb/",
      "include_colab_link": true
    },
    "kernelspec": {
      "name": "python3",
      "display_name": "Python 3"
    }
  },
  "cells": [
    {
      "cell_type": "markdown",
      "metadata": {
        "id": "view-in-github",
        "colab_type": "text"
      },
      "source": [
        "<a href=\"https://colab.research.google.com/github/Ponter255/cuddly-chainsaw/blob/master/Linear_Regression.ipynb\" target=\"_parent\"><img src=\"https://colab.research.google.com/assets/colab-badge.svg\" alt=\"Open In Colab\"/></a>"
      ]
    },
    {
      "cell_type": "markdown",
      "metadata": {
        "id": "AAKaB7ki1-ZC",
        "colab_type": "text"
      },
      "source": [
        "# **Linear Regression**\n",
        "---\n",
        "\n",
        "The objective of a linear regression model is to find a relationship between one or more features(independent variables) and a continuous target variable(dependent variable). When there is only feature it is called Uni-variate Linear Regression and if there are multiple features, it is called Multiple Linear Regression.\n",
        "\n",
        "## 1. Hypothesis of Linear Regression\n",
        "\n",
        "### $y = x_{0} + k_{1}x_{1} + k_{2}x_{2} + ... + k_{n}x_{n}$\n",
        "\n",
        "* $y$ is the predicted value\n",
        "* $x_{0}$ is the bias term.\n",
        "* $x_{1}$,…,$x_{n}$ are the model parameters\n",
        "* $k_{1}$, $k_{2}$,…,$k_{n}$ are the feature values.\n",
        "\n",
        "## 2. Dataset\n",
        "\n",
        "* Libraries"
      ]
    },
    {
      "cell_type": "code",
      "metadata": {
        "id": "GsLKPsQ018jH",
        "colab_type": "code",
        "colab": {}
      },
      "source": [
        "import pprint\n",
        "import pandas                as pd\n",
        "import pandas_profiling     \n",
        "import numpy                 as np\n",
        "import matplotlib.pyplot     as plt\n",
        "from tabulate                import tabulate\n",
        "from sklearn.datasets        import load_diabetes\n",
        "from sklearn                 import linear_model\n",
        "from sklearn.model_selection import train_test_split\n",
        "from sklearn.metrics         import mean_squared_error, r2_score\n",
        "from sklearn.preprocessing   import StandardScaler\n",
        "from sklearn.linear_model    import LinearRegression\n",
        "from sklearn.linear_model    import Ridge\n",
        "from sklearn.linear_model    import RidgeCV"
      ],
      "execution_count": 0,
      "outputs": []
    },
    {
      "cell_type": "markdown",
      "metadata": {
        "id": "WwiCuZOtZxlH",
        "colab_type": "text"
      },
      "source": [
        "* Information"
      ]
    },
    {
      "cell_type": "code",
      "metadata": {
        "id": "yyE6s1tkZ3uI",
        "colab_type": "code",
        "outputId": "ae258f7c-e68c-41f2-f9ae-d7264c5f6ca2",
        "colab": {
          "base_uri": "https://localhost:8080/",
          "height": 34
        }
      },
      "source": [
        "diabetes_full = load_diabetes()\n",
        "print(diabetes_full.keys())"
      ],
      "execution_count": 325,
      "outputs": [
        {
          "output_type": "stream",
          "text": [
            "dict_keys(['data', 'target', 'DESCR', 'feature_names', 'data_filename', 'target_filename'])\n"
          ],
          "name": "stdout"
        }
      ]
    },
    {
      "cell_type": "markdown",
      "metadata": {
        "id": "I_3Z4tS6k6K3",
        "colab_type": "text"
      },
      "source": [
        ">* Description: Ten baseline variables, age, sex, body mass index, average blood pressure, and six blood serum measurements\n",
        ">* Target: A quantitative measure of disease progression one year after baseline\n",
        ">* The number of inputs should be the same of outputs (\"data\" and \"target\") \n",
        ">* Normalization refers to rescaling real valued numeric attributes into the range 0 and 1. In this dataset gender is refferred as numbers, thus normalized"
      ]
    },
    {
      "cell_type": "code",
      "metadata": {
        "id": "BIGJXeGYbeW6",
        "colab_type": "code",
        "outputId": "a374161e-f881-4f1d-f35d-a42f5de0d022",
        "colab": {
          "base_uri": "https://localhost:8080/",
          "height": 34
        }
      },
      "source": [
        "print(diabetes_full.feature_names)\n",
        "feature = diabetes_full.data.T \n",
        "age = feature[0]\n",
        "sex = feature[1]\n",
        "bmi = feature[2]\n",
        "bp  = feature[3]\n",
        "s1  = feature[4]\n",
        "s2  = feature[5]\n",
        "s3  = feature[6]\n",
        "s4  = feature[7]\n",
        "s5  = feature[8]\n",
        "s6  = feature[9]"
      ],
      "execution_count": 326,
      "outputs": [
        {
          "output_type": "stream",
          "text": [
            "['age', 'sex', 'bmi', 'bp', 's1', 's2', 's3', 's4', 's5', 's6']\n"
          ],
          "name": "stdout"
        }
      ]
    },
    {
      "cell_type": "code",
      "metadata": {
        "id": "2dRmUsWubrZF",
        "colab_type": "code",
        "outputId": "c622e0f6-1075-40c2-e3ea-1b8c6882edf6",
        "colab": {
          "base_uri": "https://localhost:8080/",
          "height": 34
        }
      },
      "source": [
        "len(diabetes_full.target)"
      ],
      "execution_count": 327,
      "outputs": [
        {
          "output_type": "execute_result",
          "data": {
            "text/plain": [
              "442"
            ]
          },
          "metadata": {
            "tags": []
          },
          "execution_count": 327
        }
      ]
    },
    {
      "cell_type": "code",
      "metadata": {
        "id": "zEkDJKweuiVW",
        "colab_type": "code",
        "outputId": "f1237b70-e74e-4d2b-f3a8-f3b501c5f8a7",
        "colab": {
          "base_uri": "https://localhost:8080/",
          "height": 34
        }
      },
      "source": [
        "len(diabetes_full.data)"
      ],
      "execution_count": 328,
      "outputs": [
        {
          "output_type": "execute_result",
          "data": {
            "text/plain": [
              "442"
            ]
          },
          "metadata": {
            "tags": []
          },
          "execution_count": 328
        }
      ]
    },
    {
      "cell_type": "markdown",
      "metadata": {
        "id": "G9LkkbJP-phl",
        "colab_type": "text"
      },
      "source": [
        "### *Pandas Profiling*\n",
        "\n",
        "Generate a very broadly structured HTML file containing most of data analysis before diving into a more specific and individual data exploration (for example, there are no missing data in this dataset)."
      ]
    },
    {
      "cell_type": "code",
      "metadata": {
        "id": "x8PicYmMvw8G",
        "colab_type": "code",
        "colab": {}
      },
      "source": [
        "#pandas_diabetes_data = pd.DataFrame(data= np.c_[diabetes_full['data'], diabetes_full['target']], columns= diabetes_full['feature_names'] + ['target'])\n",
        "#pandas_profiling.ProfileReport(pandas_diabetes_full)\n",
        "#print(diabetes_full.data.T[0])"
      ],
      "execution_count": 0,
      "outputs": []
    },
    {
      "cell_type": "markdown",
      "metadata": {
        "id": "C15HtseOKqga",
        "colab_type": "text"
      },
      "source": [
        "### *Tabulate*\n",
        "\n",
        "Generate a table with dateset organized in a way to better view the data."
      ]
    },
    {
      "cell_type": "code",
      "metadata": {
        "id": "dMk94Pke-tKy",
        "colab_type": "code",
        "colab": {}
      },
      "source": [
        "#print(tabulate(diabetes_full.data, headers=diabetes_full.feature_names, tablefmt=\"grid\" ))"
      ],
      "execution_count": 0,
      "outputs": []
    },
    {
      "cell_type": "markdown",
      "metadata": {
        "id": "sUGLDbALYL9I",
        "colab_type": "text"
      },
      "source": [
        "## 3. Algorithm\n",
        "\n",
        "Linear Regression model python algorithm"
      ]
    },
    {
      "cell_type": "code",
      "metadata": {
        "id": "p4G1Un-pOlO7",
        "colab_type": "code",
        "colab": {}
      },
      "source": [
        "diabetes_data, diabetes_target = load_diabetes(return_X_y=True)\n",
        "\n",
        "# Split into data train and data test\n",
        "data_train, data_test, target_train, target_test = train_test_split(diabetes_data, diabetes_target, test_size=0.04, random_state=0)\n",
        "\n",
        "#Pick up only one feature \n",
        "data_train = data_train[:, np.newaxis, 2]\n",
        "data_test  = data_test[:, np.newaxis, 2]\n",
        "\n",
        "#Scaler\n",
        "scaler = StandardScaler()\n",
        "\n",
        "# Create linear regression object\n",
        "regr = linear_model.LinearRegression()\n",
        "\n",
        "# Train the model using the training sets\n",
        "regr.fit(data_train, target_train)\n",
        "\n",
        "# Make prediction using the testing set\n",
        "diabetes_prediction = regr.predict(data_test)"
      ],
      "execution_count": 0,
      "outputs": []
    },
    {
      "cell_type": "markdown",
      "metadata": {
        "id": "T5c6ZCtKZCRc",
        "colab_type": "text"
      },
      "source": [
        "* Corresponding coefficient of each individual feature, ***coef_*** gives an array of weights estimated by linear regression."
      ]
    },
    {
      "cell_type": "code",
      "metadata": {
        "id": "yrerGQ0YYGq6",
        "colab_type": "code",
        "outputId": "cdc68354-7c22-4c54-f615-3a98929e1511",
        "colab": {
          "base_uri": "https://localhost:8080/",
          "height": 51
        }
      },
      "source": [
        "print('Coefficients: \\n', regr.coef_)"
      ],
      "execution_count": 332,
      "outputs": [
        {
          "output_type": "stream",
          "text": [
            "Coefficients: \n",
            " [949.23456396]\n"
          ],
          "name": "stdout"
        }
      ]
    },
    {
      "cell_type": "markdown",
      "metadata": {
        "id": "eRbW-k60GDrz",
        "colab_type": "text"
      },
      "source": [
        "### Mean squared error\n",
        "\n",
        "Tells you how close a regression line is to a set of points. It does this by taking the distances from the points to the regression line (these distances are the “errors”) and squaring them. The squaring is necessary to remove any negative signs. It also gives more weight to larger differences. It’s called the mean squared error as you’re finding the average of a set of errors."
      ]
    },
    {
      "cell_type": "code",
      "metadata": {
        "id": "NnIApcWaGDGr",
        "colab_type": "code",
        "outputId": "620c6f95-b4a2-4d35-ad87-bf71465b7e99",
        "colab": {
          "base_uri": "https://localhost:8080/",
          "height": 34
        }
      },
      "source": [
        "print('Mean squared error: %.2f'% mean_squared_error(target_test, diabetes_prediction))"
      ],
      "execution_count": 333,
      "outputs": [
        {
          "output_type": "stream",
          "text": [
            "Mean squared error: 3636.22\n"
          ],
          "name": "stdout"
        }
      ]
    },
    {
      "cell_type": "markdown",
      "metadata": {
        "id": "uinw2XskMRbF",
        "colab_type": "text"
      },
      "source": [
        "### Coefficient of Determination (main regression score)\n",
        "\n",
        "* In statistics, the coefficient of determination, denoted $R^2$ and pronounced \"R squared\", is the proportion of the variance in the dependent variable that is predictable from the independent variable(s).\n",
        "\n",
        "* It provides a measure of how well observed outcomes are replicated by the model, based on the proportion of total variation of outcomes explained by the model.A value of 1.0 indicates a perfect fit,and a value of 0, would indicate that the model fails to accurately model the data at all \n",
        "\n",
        "$R^2 = ({\\frac{1}{n}*\\sum_{i=1}^n\\frac{[(x_{i} - \\overline{x})*(y_{i} - \\overline{y})]}{\\theta_{x}*\\theta_{y}}})^2$\n",
        "\n",
        "> Where \"n\" is the number of observations used to fit the model, $x_{i}$ is the $x$ value for observation i, $\\overline{x}$ is the mean $x$ value, $y_{i}$ is the $y$ value for observation i, $\\overline{x}$ is the mean $y$ value, $\\theta_{x}$ is the standard deviation of $x$, and $\\theta_{y}$ is the standard deviation of $y$."
      ]
    },
    {
      "cell_type": "code",
      "metadata": {
        "id": "vS7IyLb8MR5o",
        "colab_type": "code",
        "outputId": "06ef193a-d53f-4fff-ac8d-7e9d50c92ac8",
        "colab": {
          "base_uri": "https://localhost:8080/",
          "height": 51
        }
      },
      "source": [
        "# The coefficient of determination: 1 is perfect prediction\n",
        "print('Coefficient of determination: %.2f'% r2_score(target_test, diabetes_prediction))\n",
        "regr.score(data_train, target_train)"
      ],
      "execution_count": 347,
      "outputs": [
        {
          "output_type": "stream",
          "text": [
            "Coefficient of determination: 0.43\n"
          ],
          "name": "stdout"
        },
        {
          "output_type": "execute_result",
          "data": {
            "text/plain": [
              "0.3390082336573209"
            ]
          },
          "metadata": {
            "tags": []
          },
          "execution_count": 347
        }
      ]
    },
    {
      "cell_type": "markdown",
      "metadata": {
        "id": "ZG1xDI26NpG0",
        "colab_type": "text"
      },
      "source": [
        "## 4. Matplotlib\n",
        "\n",
        "Plot the dataset information in a way that the method that it is being applied to model the that can be easy verified and visualized through the distribution of the data in the graphs"
      ]
    },
    {
      "cell_type": "code",
      "metadata": {
        "id": "JwPkwoN4YLzx",
        "colab_type": "code",
        "outputId": "a5ad6f15-5d7f-4afa-e276-368fad665700",
        "colab": {
          "base_uri": "https://localhost:8080/",
          "height": 265
        }
      },
      "source": [
        "%matplotlib inline\n",
        "plt.scatter(data_train, target_train,  color='grey')\n",
        "plt.scatter(data_test, target_test,  color='black')\n",
        "plt.plot(data_test, diabetes_prediction, color='red', linewidth=2)\n",
        "\n",
        "plt.show()"
      ],
      "execution_count": 358,
      "outputs": [
        {
          "output_type": "display_data",
          "data": {
            "image/png": "[encoded data removed]",
            "text/plain": [
              "<Figure size 432x288 with 1 Axes>"
            ]
          },
          "metadata": {
            "tags": []
          }
        }
      ]
    },
    {
      "cell_type": "markdown",
      "metadata": {
        "id": "y__4c6HmZlYH",
        "colab_type": "text"
      },
      "source": [
        "## 5. Hyperparameter Optimzation\n",
        "Linear Regression model optimization \n",
        "\n",
        "**LinearRegression(fit_intercept=True, normalize=False, copy_X=True, n_jobs=None)**\n",
        "\n",
        "* *fit_intercept*: bool, optional, default True\n",
        "\n",
        "> Whether to calculate the intercept for this model. If set to False, no intercept will be used in calculations (i.e. data is expected to be centered).\n",
        "\n",
        "* *normalize*: bool, optional, default False\n",
        "\n",
        "> This parameter is ignored when fit_intercept is set to False. If True, the regressors X will be normalized before regression by subtracting the mean and dividing by the l2-norm. If you wish to standardize, please use sklearn.preprocessing.StandardScaler before calling fit on an estimator with normalize=False.\n",
        "\n",
        "* *copy_X*: bool, optional, default True\n",
        "\n",
        "> If True, X will be copied; else, it may be overwritten.\n",
        "\n",
        "* *n_jobs*: int or None, optional (default=None)\n",
        "\n",
        "> The number of jobs to use for the computation. This will only provide speedup for n_targets > 1 and sufficient large problems. None means 1 unless in a joblib.parallel_backend context. -1 means using all processors. See Glossary for more details.\n",
        "\n"
      ]
    },
    {
      "cell_type": "code",
      "metadata": {
        "id": "M3PZ-rO0b35C",
        "colab_type": "code",
        "outputId": "f5278c1b-3c0e-4c78-8ed6-482a805044d3",
        "colab": {
          "base_uri": "https://localhost:8080/",
          "height": 51
        }
      },
      "source": [
        "regr2 = linear_model.LinearRegression(fit_intercept=True, normalize=False, copy_X=True, n_jobs=None)\n",
        "\n",
        "# Train the model using the training sets\n",
        "regr2.fit(data_train, target_train)\n",
        "\n",
        "# Make prediction using the testing set\n",
        "diabetes_prediction2 = regr2.predict(data_test)\n",
        "\n",
        "# The coefficient of determination: 1 is perfect prediction\n",
        "print('Coefficient of determination: %.3f'% r2_score(target_test, diabetes_prediction2))\n",
        "regr2.score(data_test, target_test)"
      ],
      "execution_count": 367,
      "outputs": [
        {
          "output_type": "stream",
          "text": [
            "Coefficient of determination: 0.431\n"
          ],
          "name": "stdout"
        },
        {
          "output_type": "execute_result",
          "data": {
            "text/plain": [
              "0.43068459534812814"
            ]
          },
          "metadata": {
            "tags": []
          },
          "execution_count": 367
        }
      ]
    },
    {
      "cell_type": "markdown",
      "metadata": {
        "id": "H-R-Tru3ETLM",
        "colab_type": "text"
      },
      "source": [
        "**Ridge(alpha=1.0, fit_intercept=True, normalize=False, copy_X=True, max_iter=None, tol=0.001, solver='auto', random_state=None)**\n",
        "\n",
        "* *alpha* = {float, ndarray of shape (n_targets,)}, default=1.0\n",
        "> Regularization improves the conditioning of the problem and reduces the variance of the estimates. Larger values specify stronger regularization. Alpha corresponds to $C^{-1}$ in other linear models such as LogisticRegression or LinearSVC. If an array is passed, penalties are assumed to be specific to the targets. Hence they must correspond in number.\n",
        "\n",
        "* *solver*{‘auto’, ‘svd’, ‘cholesky’, ‘lsqr’, ‘sparse_cg’, ‘sag’, ‘saga’}, default=’auto’\n",
        "\n"
      ]
    },
    {
      "cell_type": "code",
      "metadata": {
        "id": "UeNM4svQNqX2",
        "colab_type": "code",
        "outputId": "1372f44a-c50a-425b-f7a6-fe89a15a9727",
        "colab": {
          "base_uri": "https://localhost:8080/",
          "height": 34
        }
      },
      "source": [
        "clf = Ridge(alpha=1.0, fit_intercept=True, normalize=False, copy_X=False, max_iter=None, tol=0.01, solver='cholesky', random_state=None)\n",
        "clf.fit(data_train, target_train)\n",
        "diabetes_prediction = clf.predict(data_test)\n",
        "\n",
        "# The coefficient of determination: 1 is perfect prediction\n",
        "print('Coefficient of determination: %.2f'% r2_score(target_test, diabetes_prediction))"
      ],
      "execution_count": 362,
      "outputs": [
        {
          "output_type": "stream",
          "text": [
            "Coefficient of determination: 0.31\n"
          ],
          "name": "stdout"
        }
      ]
    },
    {
      "cell_type": "markdown",
      "metadata": {
        "id": "4f-xIFosI4LQ",
        "colab_type": "text"
      },
      "source": [
        "GRID of Linear Regression\n",
        "\n",
        "> Score | fit_intercept | normalize | copy_X | n_jobs\n",
        ">--- | --- | --- | --- | ---\n",
        ">  0.43 | True  | True  | True  | None\n",
        ">  -3.09| False | True  | True  | None\n",
        ">  -3.09| False | False | True  | None\n",
        ">  -3.09| False | False | False | None\n",
        ">  0.43 | True  | False | False | None\n",
        ">  0.43 | True  | True  | False | None"
      ]
    },
    {
      "cell_type": "code",
      "metadata": {
        "id": "G6gqtiSMI4ge",
        "colab_type": "code",
        "colab": {
          "base_uri": "https://localhost:8080/",
          "height": 34
        },
        "outputId": "2eabed70-4340-4f39-b40e-e9c0f3470d97"
      },
      "source": [
        "clf = RidgeCV(alphas=[1e-3, 1e-2, 1e-1, 1]).fit(diabetes_data, diabetes_target)\n",
        "clf.fit(data_train, target_train)\n",
        "diabetes_prediction = clf.predict(data_test)\n",
        "print('Coefficient of determination: %.3f'% r2_score(target_test, diabetes_prediction))"
      ],
      "execution_count": 340,
      "outputs": [
        {
          "output_type": "stream",
          "text": [
            "Coefficient of determination: 0.431\n"
          ],
          "name": "stdout"
        }
      ]
    }
  ]
}