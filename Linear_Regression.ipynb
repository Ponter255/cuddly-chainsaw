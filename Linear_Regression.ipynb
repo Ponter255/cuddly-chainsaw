{
  "nbformat": 4,
  "nbformat_minor": 0,
  "metadata": {
    "colab": {
      "name": "Linear Regression.ipynb",
      "provenance": [],
      "collapsed_sections": [],
      "authorship_tag": "ABX9TyNfRIBwIfGIwfCySkkQNEuF",
      "include_colab_link": true
    },
    "kernelspec": {
      "name": "python3",
      "display_name": "Python 3"
    }
  },
  "cells": [
    {
      "cell_type": "markdown",
      "metadata": {
        "id": "view-in-github",
        "colab_type": "text"
      },
      "source": [
        "<a href=\"https://colab.research.google.com/github/Ponter255/cuddly-chainsaw/blob/master/Linear_Regression.ipynb\" target=\"_parent\"><img src=\"https://colab.research.google.com/assets/colab-badge.svg\" alt=\"Open In Colab\"/></a>"
      ]
    },
    {
      "cell_type": "markdown",
      "metadata": {
        "id": "AAKaB7ki1-ZC",
        "colab_type": "text"
      },
      "source": [
        "# **Linear Regression**\n",
        "---\n",
        "\n",
        "The objective of a linear regression model is to find a relationship between one or more features(independent variables) and a continuous target variable(dependent variable). When there is only feature it is called Uni-variate Linear Regression and if there are multiple features, it is called Multiple Linear Regression.\n",
        "\n",
        "## 1. Hypothesis of Linear Regression\n",
        "\n",
        "### $y = x_{0} + k_{1}x_{1} + k_{2}x_{2} + ... + k_{n}x_{n}$\n",
        "\n",
        "* $y$ is the predicted value\n",
        "* $x_{0}$ is the bias term.\n",
        "* $x_{1}$,…,$x_{n}$ are the model parameters\n",
        "* $k_{1}$, $k_{2}$,…,$k_{n}$ are the feature values.\n",
        "\n",
        "## 2. Dataset\n",
        "\n",
        "* Libraries"
      ]
    },
    {
      "cell_type": "code",
      "metadata": {
        "id": "GsLKPsQ018jH",
        "colab_type": "code",
        "colab": {}
      },
      "source": [
        "import pprint\n",
        "import pandas                as pd\n",
        "import pandas_profiling     \n",
        "import numpy                 as np\n",
        "import matplotlib.pyplot     as plt\n",
        "from tabulate                import tabulate\n",
        "from sklearn.datasets        import load_diabetes\n",
        "from sklearn                 import linear_model\n",
        "from sklearn.model_selection import train_test_split\n",
        "from sklearn.metrics         import mean_squared_error, r2_score\n",
        "from sklearn.linear_model    import LinearRegression"
      ],
      "execution_count": 0,
      "outputs": []
    },
    {
      "cell_type": "markdown",
      "metadata": {
        "id": "WwiCuZOtZxlH",
        "colab_type": "text"
      },
      "source": [
        "* Information"
      ]
    },
    {
      "cell_type": "code",
      "metadata": {
        "id": "yyE6s1tkZ3uI",
        "colab_type": "code",
        "outputId": "ab89950e-179f-48af-e298-8ee08628b2fd",
        "colab": {
          "base_uri": "https://localhost:8080/",
          "height": 34
        }
      },
      "source": [
        "diabetes_data = load_diabetes()\n",
        "print(diabetes_data.keys())"
      ],
      "execution_count": 0,
      "outputs": [
        {
          "output_type": "stream",
          "text": [
            "dict_keys(['data', 'target', 'DESCR', 'feature_names', 'data_filename', 'target_filename'])\n"
          ],
          "name": "stdout"
        }
      ]
    },
    {
      "cell_type": "markdown",
      "metadata": {
        "id": "I_3Z4tS6k6K3",
        "colab_type": "text"
      },
      "source": [
        ">* Description: Ten baseline variables, age, sex, body mass index, average blood pressure, and six blood serum measurements\n",
        ">* Target: A quantitative measure of disease progression one year after baseline\n",
        ">* The number of inputs should be the same of outputs (\"data\" and \"target\") \n",
        ">* Normalization refers to rescaling real valued numeric attributes into the range 0 and 1. In this dataset gender is refferred as numbers, thus normalized"
      ]
    },
    {
      "cell_type": "code",
      "metadata": {
        "id": "BIGJXeGYbeW6",
        "colab_type": "code",
        "outputId": "f0a1c97b-76c8-4e0f-b006-52a3bc45cb7e",
        "colab": {
          "base_uri": "https://localhost:8080/",
          "height": 34
        }
      },
      "source": [
        "print(diabetes_data.feature_names)\n",
        "feature = diabetes_data.data.T \n",
        "age = feature[0]\n",
        "sex = feature[1]\n",
        "bmi = feature[2]\n",
        "bp  = feature[3]\n",
        "s1  = feature[4]\n",
        "s2  = feature[5]\n",
        "s3  = feature[6]\n",
        "s4  = feature[7]\n",
        "s5  = feature[8]\n",
        "s6  = feature[9]"
      ],
      "execution_count": 0,
      "outputs": [
        {
          "output_type": "stream",
          "text": [
            "['age', 'sex', 'bmi', 'bp', 's1', 's2', 's3', 's4', 's5', 's6']\n"
          ],
          "name": "stdout"
        }
      ]
    },
    {
      "cell_type": "code",
      "metadata": {
        "id": "2dRmUsWubrZF",
        "colab_type": "code",
        "outputId": "1d1ab030-d80b-4d15-b0cf-76434618dd3d",
        "colab": {
          "base_uri": "https://localhost:8080/",
          "height": 34
        }
      },
      "source": [
        "len(diabetes_data.target)"
      ],
      "execution_count": 0,
      "outputs": [
        {
          "output_type": "execute_result",
          "data": {
            "text/plain": [
              "442"
            ]
          },
          "metadata": {
            "tags": []
          },
          "execution_count": 85
        }
      ]
    },
    {
      "cell_type": "code",
      "metadata": {
        "id": "zEkDJKweuiVW",
        "colab_type": "code",
        "outputId": "ca1ec60e-ee96-4be3-fa92-e4203e96ff8d",
        "colab": {
          "base_uri": "https://localhost:8080/",
          "height": 34
        }
      },
      "source": [
        "len(diabetes_data.data)"
      ],
      "execution_count": 0,
      "outputs": [
        {
          "output_type": "execute_result",
          "data": {
            "text/plain": [
              "442"
            ]
          },
          "metadata": {
            "tags": []
          },
          "execution_count": 86
        }
      ]
    },
    {
      "cell_type": "markdown",
      "metadata": {
        "id": "G9LkkbJP-phl",
        "colab_type": "text"
      },
      "source": [
        "### *Pandas Profiling*\n",
        "\n",
        "Generate a very broadly structured HTML file containing most of data analysis before diving into a more specific and individual data exploration (for example, there are no missing data in this dataset)."
      ]
    },
    {
      "cell_type": "code",
      "metadata": {
        "id": "x8PicYmMvw8G",
        "colab_type": "code",
        "colab": {}
      },
      "source": [
        "#pandas_diabetes_data = pd.DataFrame(data= np.c_[diabetes_data['data'], diabetes_data['target']], columns= diabetes_data['feature_names'] + ['target'])\n",
        "#pandas_profiling.ProfileReport(pandas_diabetes_data)\n",
        "#print(diabetes_data.data.T[0])"
      ],
      "execution_count": 0,
      "outputs": []
    },
    {
      "cell_type": "markdown",
      "metadata": {
        "id": "C15HtseOKqga",
        "colab_type": "text"
      },
      "source": [
        "### *Tabulate*\n",
        "\n",
        "Generate a table with dateset organized in a way to better view the data."
      ]
    },
    {
      "cell_type": "code",
      "metadata": {
        "id": "dMk94Pke-tKy",
        "colab_type": "code",
        "colab": {}
      },
      "source": [
        "#print(tabulate(diabetes_data.data, headers=diabetes_data.feature_names, tablefmt=\"grid\" ))"
      ],
      "execution_count": 0,
      "outputs": []
    },
    {
      "cell_type": "markdown",
      "metadata": {
        "id": "sUGLDbALYL9I",
        "colab_type": "text"
      },
      "source": [
        "## 3. Algorithm\n",
        "\n",
        "Linear Regression model python algorithm"
      ]
    },
    {
      "cell_type": "code",
      "metadata": {
        "id": "p4G1Un-pOlO7",
        "colab_type": "code",
        "colab": {}
      },
      "source": [
        "data_train, data_test = train_test_split(diabetes_data['data'], random_state=0)\n",
        "\n",
        "target_train, target_test = train_test_split(diabetes_data['target'], random_state=0)\n",
        "\n",
        "# Create linear regression object\n",
        "regr = linear_model.LinearRegression()\n",
        "\n",
        "# Train the model using the training sets\n",
        "regr.fit(data_train, target_train)\n",
        "\n",
        "# Make prediction using the testing set\n",
        "diabetes_prediction = regr.predict(data_test)"
      ],
      "execution_count": 0,
      "outputs": []
    },
    {
      "cell_type": "markdown",
      "metadata": {
        "id": "T5c6ZCtKZCRc",
        "colab_type": "text"
      },
      "source": [
        "* Corresponding coefficient of each individual feature, ***coef_*** gives an array of weights estimated by linear regression."
      ]
    },
    {
      "cell_type": "code",
      "metadata": {
        "id": "yrerGQ0YYGq6",
        "colab_type": "code",
        "outputId": "d4916941-ec0c-42d1-9dcc-c94203397b46",
        "colab": {
          "base_uri": "https://localhost:8080/",
          "height": 68
        }
      },
      "source": [
        "print('Coefficients: \\n', regr.coef_)"
      ],
      "execution_count": 0,
      "outputs": [
        {
          "output_type": "stream",
          "text": [
            "Coefficients: \n",
            " [ -43.26774487 -208.67053951  593.39797213  302.89814903 -560.27689824\n",
            "  261.47657106   -8.83343952  135.93715156  703.22658427   28.34844354]\n"
          ],
          "name": "stdout"
        }
      ]
    },
    {
      "cell_type": "markdown",
      "metadata": {
        "id": "eRbW-k60GDrz",
        "colab_type": "text"
      },
      "source": [
        "### Mean squared error\n",
        "\n",
        "Tells you how close a regression line is to a set of points. It does this by taking the distances from the points to the regression line (these distances are the “errors”) and squaring them. The squaring is necessary to remove any negative signs. It also gives more weight to larger differences. It’s called the mean squared error as you’re finding the average of a set of errors."
      ]
    },
    {
      "cell_type": "code",
      "metadata": {
        "id": "NnIApcWaGDGr",
        "colab_type": "code",
        "outputId": "a4fa836b-915f-41c1-a126-e8c66d0a527b",
        "colab": {
          "base_uri": "https://localhost:8080/"
        }
      },
      "source": [
        "print('Mean squared error: %.2f'% mean_squared_error(target_test, diabetes_prediction))"
      ],
      "execution_count": 0,
      "outputs": [
        {
          "output_type": "stream",
          "text": [
            "Mean squared error: 3180.20\n"
          ],
          "name": "stdout"
        }
      ]
    },
    {
      "cell_type": "markdown",
      "metadata": {
        "id": "uinw2XskMRbF",
        "colab_type": "text"
      },
      "source": [
        "### Coefficient of Determination\n",
        "\n",
        "* In statistics, the coefficient of determination, denoted $R^2$ and pronounced \"R squared\", is the proportion of the variance in the dependent variable that is predictable from the independent variable(s).\n",
        "\n",
        "* It provides a measure of how well observed outcomes are replicated by the model, based on the proportion of total variation of outcomes explained by the model.A value of 1.0 indicates a perfect fit,and a value of 0, would indicate that the model fails to accurately model the data at all \n",
        "\n",
        "$R^2 = ({\\frac{1}{n}*\\sum_{i=1}^n\\frac{[(x_{i} - \\overline{x})*(y_{i} - \\overline{y})]}{\\theta_{x}*\\theta_{y}}})^2$\n",
        "\n",
        "> Where \"n\" is the number of observations used to fit the model, $x_{i}$ is the $x$ value for observation i, $\\overline{x}$ is the mean $x$ value, $y_{i}$ is the $y$ value for observation i, $\\overline{x}$ is the mean $y$ value, $\\theta_{x}$ is the standard deviation of $x$, and $\\theta_{y}$ is the standard deviation of $y$."
      ]
    },
    {
      "cell_type": "code",
      "metadata": {
        "id": "vS7IyLb8MR5o",
        "colab_type": "code",
        "outputId": "9b889c86-b12a-4823-c445-7bd5a9a129cd",
        "colab": {
          "base_uri": "https://localhost:8080/"
        }
      },
      "source": [
        "print('Coefficient of determination: %.2f'% r2_score(target_test, diabetes_prediction))"
      ],
      "execution_count": 0,
      "outputs": [
        {
          "output_type": "stream",
          "text": [
            "Coefficient of determination: 0.36\n"
          ],
          "name": "stdout"
        }
      ]
    },
    {
      "cell_type": "markdown",
      "metadata": {
        "id": "ZG1xDI26NpG0",
        "colab_type": "text"
      },
      "source": [
        "## 4. Matplotlib\n",
        "\n",
        "Plot the dataset information in a way that the method that it is being applied to model the that can be easy verified and visualized through the distribution of the data in the graphs"
      ]
    },
    {
      "cell_type": "code",
      "metadata": {
        "id": "JwPkwoN4YLzx",
        "colab_type": "code",
        "outputId": "5ce16ad8-5ffa-40d7-a014-62721d8e8b91",
        "colab": {
          "base_uri": "https://localhost:8080/",
          "height": 265
        }
      },
      "source": [
        "# Load the diabetes dataset\n",
        "diabetes_X, diabetes_y = load_diabetes(return_X_y=True)\n",
        "\n",
        "# Use only one feature\n",
        "diabetes_X = diabetes_X[:, np.newaxis, 2]\n",
        "\n",
        "# Split the data into training/testing sets\n",
        "diabetes_X_train = diabetes_X[:-20]\n",
        "diabetes_X_test = diabetes_X[-20:]\n",
        "\n",
        "# Split the targets into training/testing sets\n",
        "diabetes_y_train = diabetes_y[:-20]\n",
        "diabetes_y_test = diabetes_y[-20:]\n",
        "\n",
        "# Create linear regression object\n",
        "regr = linear_model.LinearRegression()\n",
        "\n",
        "# Train the model using the training sets\n",
        "regr.fit(diabetes_X_train, diabetes_y_train)\n",
        "\n",
        "# Make predictions using the testing set\n",
        "diabetes_y_pred = regr.predict(diabetes_X_test)\n",
        "\n",
        "# Plot outputs\n",
        "plt.scatter(diabetes_X_test, diabetes_y_test,  color='black')\n",
        "plt.plot(diabetes_X_test, diabetes_y_pred, color='blue', linewidth=3)\n",
        "\n",
        "\n",
        "plt.show()"
      ],
      "execution_count": 0,
      "outputs": [
        {
          "output_type": "display_data",
          "data": {
            "image/png": "[encoded data removed]",
            "text/plain": [
              "<Figure size 432x288 with 1 Axes>"
            ]
          },
          "metadata": {
            "tags": []
          }
        }
      ]
    },
    {
      "cell_type": "code",
      "metadata": {
        "id": "QUsjTZxTnvZk",
        "colab_type": "code",
        "outputId": "743a0876-9354-4a41-c6a3-439ef7ed43cb",
        "colab": {
          "base_uri": "https://localhost:8080/",
          "height": 265
        }
      },
      "source": [
        "#plt.scatter(data_test, target_test,  color='black')\n",
        "plt.scatter(bp, bmi, c=diabetes_data.target)\n",
        "\n",
        "#plt.xticks(())\n",
        "#plt.yticks(())\n",
        "\n",
        "plt.show()\n",
        "\n",
        "#diabetes_prediction.shape"
      ],
      "execution_count": 0,
      "outputs": [
        {
          "output_type": "display_data",
          "data": {
            "image/png": "[encoded data removed]",
            "text/plain": [
              "<Figure size 432x288 with 1 Axes>"
            ]
          },
          "metadata": {
            "tags": []
          }
        }
      ]
    }
  ]
}