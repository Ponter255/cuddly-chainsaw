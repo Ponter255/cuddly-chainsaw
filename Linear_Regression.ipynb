{
  "nbformat": 4,
  "nbformat_minor": 0,
  "metadata": {
    "colab": {
      "name": "Linear Regression.ipynb",
      "provenance": [],
      "collapsed_sections": [],
      "authorship_tag": "ABX9TyMV+mslTqYqwN7sDZkamHwv",
      "include_colab_link": true
    },
    "kernelspec": {
      "name": "python3",
      "display_name": "Python 3"
    }
  },
  "cells": [
    {
      "cell_type": "markdown",
      "metadata": {
        "id": "view-in-github",
        "colab_type": "text"
      },
      "source": [
        "<a href=\"https://colab.research.google.com/github/Ponter255/cuddly-chainsaw/blob/master/Linear_Regression.ipynb\" target=\"_parent\"><img src=\"https://colab.research.google.com/assets/colab-badge.svg\" alt=\"Open In Colab\"/></a>"
      ]
    },
    {
      "cell_type": "markdown",
      "metadata": {
        "id": "AAKaB7ki1-ZC",
        "colab_type": "text"
      },
      "source": [
        "# **Linear Regression**\n",
        "---\n",
        "\n",
        "The objective of a linear regression model is to find a relationship between one or more features(independent variables) and a continuous target variable(dependent variable). When there is only feature it is called Uni-variate Linear Regression and if there are multiple features, it is called Multiple Linear Regression.\n",
        "\n",
        "## 1. Hypothesis of Linear Regression\n",
        "\n",
        "### $y = x_{0} + k_{1}x_{1} + k_{2}x_{2} + ... + k_{n}x_{n}$\n",
        "\n",
        "* $y$ is the predicted value\n",
        "* $x_{0}$ is the bias term.\n",
        "* $x_{1}$,…,$x_{n}$ are the model parameters\n",
        "* $k_{1}$, $k_{2}$,…,$k_{n}$ are the feature values.\n",
        "\n",
        "## 2. Dataset\n",
        "\n",
        "* Libraries"
      ]
    },
    {
      "cell_type": "code",
      "metadata": {
        "id": "GsLKPsQ018jH",
        "colab_type": "code",
        "colab": {}
      },
      "source": [
        "import pprint\n",
        "import pandas                as pd\n",
        "import pandas_profiling     \n",
        "import numpy                 as np\n",
        "import matplotlib.pyplot     as plt\n",
        "from tabulate                import tabulate\n",
        "from sklearn.datasets        import load_diabetes\n",
        "from sklearn                 import linear_model\n",
        "from sklearn.model_selection import train_test_split\n",
        "from sklearn.metrics         import mean_squared_error, r2_score"
      ],
      "execution_count": 0,
      "outputs": []
    },
    {
      "cell_type": "markdown",
      "metadata": {
        "id": "WwiCuZOtZxlH",
        "colab_type": "text"
      },
      "source": [
        "* Information"
      ]
    },
    {
      "cell_type": "code",
      "metadata": {
        "id": "yyE6s1tkZ3uI",
        "colab_type": "code",
        "outputId": "cd8992a1-6b73-4f0a-95a1-fde8760db36a",
        "colab": {
          "base_uri": "https://localhost:8080/",
          "height": 34
        }
      },
      "source": [
        "diabetes_data = load_diabetes()\n",
        "print(diabetes_data.keys())"
      ],
      "execution_count": 3,
      "outputs": [
        {
          "output_type": "stream",
          "text": [
            "dict_keys(['data', 'target', 'DESCR', 'feature_names', 'data_filename', 'target_filename'])\n"
          ],
          "name": "stdout"
        }
      ]
    },
    {
      "cell_type": "markdown",
      "metadata": {
        "id": "I_3Z4tS6k6K3",
        "colab_type": "text"
      },
      "source": [
        ">* Description: Ten baseline variables, age, sex, body mass index, average blood pressure, and six blood serum measurements\n",
        ">* Target: A quantitative measure of disease progression one year after baseline\n",
        ">* The number of inputs should be the same of outputs (\"data\" and \"target\") \n",
        ">* Normalization refers to rescaling real valued numeric attributes into the range 0 and 1. In this dataset gender is refferred as numbers, thus normalized"
      ]
    },
    {
      "cell_type": "code",
      "metadata": {
        "id": "BIGJXeGYbeW6",
        "colab_type": "code",
        "outputId": "bab8407a-8dcd-4b0d-cf6b-15ce6df58cce",
        "colab": {
          "base_uri": "https://localhost:8080/",
          "height": 34
        }
      },
      "source": [
        "print(diabetes_data.feature_names)"
      ],
      "execution_count": 4,
      "outputs": [
        {
          "output_type": "stream",
          "text": [
            "['age', 'sex', 'bmi', 'bp', 's1', 's2', 's3', 's4', 's5', 's6']\n"
          ],
          "name": "stdout"
        }
      ]
    },
    {
      "cell_type": "code",
      "metadata": {
        "id": "2dRmUsWubrZF",
        "colab_type": "code",
        "outputId": "89adf296-5064-4270-b2ce-9f5112b2f9ca",
        "colab": {
          "base_uri": "https://localhost:8080/",
          "height": 34
        }
      },
      "source": [
        "len(diabetes_data.target)"
      ],
      "execution_count": 5,
      "outputs": [
        {
          "output_type": "execute_result",
          "data": {
            "text/plain": [
              "442"
            ]
          },
          "metadata": {
            "tags": []
          },
          "execution_count": 5
        }
      ]
    },
    {
      "cell_type": "code",
      "metadata": {
        "id": "zEkDJKweuiVW",
        "colab_type": "code",
        "outputId": "008f725f-b511-4911-a0c3-91ee49a32219",
        "colab": {
          "base_uri": "https://localhost:8080/",
          "height": 34
        }
      },
      "source": [
        "len(diabetes_data.data)"
      ],
      "execution_count": 6,
      "outputs": [
        {
          "output_type": "execute_result",
          "data": {
            "text/plain": [
              "442"
            ]
          },
          "metadata": {
            "tags": []
          },
          "execution_count": 6
        }
      ]
    },
    {
      "cell_type": "markdown",
      "metadata": {
        "id": "G9LkkbJP-phl",
        "colab_type": "text"
      },
      "source": [
        "### *Pandas Profiling*\n",
        "\n",
        "Generate a very broadly structured HTML file containing most of data analysis before diving into a more specific and individual data exploration (for example, there are no missing data in this dataset)."
      ]
    },
    {
      "cell_type": "code",
      "metadata": {
        "id": "x8PicYmMvw8G",
        "colab_type": "code",
        "colab": {}
      },
      "source": [
        "#pandas_diabetes_data = pd.DataFrame(data= np.c_[diabetes_data['data'], diabetes_data['target']], columns= diabetes_data['feature_names'] + ['target'])\n",
        "#pandas_profiling.ProfileReport(pandas_diabetes_data)\n",
        "#print(diabetes_data.data.T[0])"
      ],
      "execution_count": 0,
      "outputs": []
    },
    {
      "cell_type": "markdown",
      "metadata": {
        "id": "C15HtseOKqga",
        "colab_type": "text"
      },
      "source": [
        "### *Tabulate*\n",
        "\n",
        "Generate a table with dateset organized in a way to better view the data."
      ]
    },
    {
      "cell_type": "code",
      "metadata": {
        "id": "dMk94Pke-tKy",
        "colab_type": "code",
        "colab": {}
      },
      "source": [
        "#print(tabulate(diabetes_data.data, headers=diabetes_data.feature_names, tablefmt=\"grid\" ))"
      ],
      "execution_count": 0,
      "outputs": []
    },
    {
      "cell_type": "markdown",
      "metadata": {
        "id": "sUGLDbALYL9I",
        "colab_type": "text"
      },
      "source": [
        "## 3. Algorithm\n",
        "\n",
        "Linear Regression model python algorithm"
      ]
    },
    {
      "cell_type": "code",
      "metadata": {
        "id": "p4G1Un-pOlO7",
        "colab_type": "code",
        "colab": {}
      },
      "source": [
        "data_train, data_test = train_test_split(diabetes_data['data'], random_state=0)\n",
        "\n",
        "target_train, target_test = train_test_split(diabetes_data['target'], random_state=0)\n",
        "\n",
        "# Create linear regression object\n",
        "regr = linear_model.LinearRegression()\n",
        "\n",
        "# Train the model using the training sets\n",
        "regr.fit(data_train, target_train)\n",
        "\n",
        "# Make prediction using the testing set\n",
        "diabetes_prediction = regr.predict(data_test)"
      ],
      "execution_count": 0,
      "outputs": []
    },
    {
      "cell_type": "markdown",
      "metadata": {
        "id": "T5c6ZCtKZCRc",
        "colab_type": "text"
      },
      "source": [
        "* Corresponding coefficient of each individual feature, ***coef_*** gives an array of weights estimated by linear regression."
      ]
    },
    {
      "cell_type": "code",
      "metadata": {
        "id": "yrerGQ0YYGq6",
        "colab_type": "code",
        "outputId": "3c283711-27e4-46e4-d780-a40fbb7c2981",
        "colab": {
          "base_uri": "https://localhost:8080/",
          "height": 68
        }
      },
      "source": [
        "print('Coefficients: \\n', regr.coef_)"
      ],
      "execution_count": 10,
      "outputs": [
        {
          "output_type": "stream",
          "text": [
            "Coefficients: \n",
            " [ -43.26774487 -208.67053951  593.39797213  302.89814903 -560.27689824\n",
            "  261.47657106   -8.83343952  135.93715156  703.22658427   28.34844354]\n"
          ],
          "name": "stdout"
        }
      ]
    },
    {
      "cell_type": "markdown",
      "metadata": {
        "id": "eRbW-k60GDrz",
        "colab_type": "text"
      },
      "source": [
        "* The mean squared error tells you how close a regression line is to a set of points. It does this by taking the distances from the points to the regression line (these distances are the “errors”) and squaring them. The squaring is necessary to remove any negative signs. It also gives more weight to larger differences. It’s called the mean squared error as you’re finding the average of a set of errors."
      ]
    },
    {
      "cell_type": "code",
      "metadata": {
        "id": "NnIApcWaGDGr",
        "colab_type": "code",
        "colab": {
          "base_uri": "https://localhost:8080/",
          "height": 34
        },
        "outputId": "30c0362e-6cd2-46fa-bed7-d6b50751b8f1"
      },
      "source": [
        "print('Mean squared error: %.2f'% mean_squared_error(target_test, diabetes_prediction))"
      ],
      "execution_count": 11,
      "outputs": [
        {
          "output_type": "stream",
          "text": [
            "Mean squared error: 3180.20\n"
          ],
          "name": "stdout"
        }
      ]
    },
    {
      "cell_type": "markdown",
      "metadata": {
        "id": "ZG1xDI26NpG0",
        "colab_type": "text"
      },
      "source": [
        "## 4. Matplotlib\n",
        "\n",
        "Plot the dataset information in a way that the method that it is being applied to model the that can be easy verified and visualized through the distribution of the data in the graphs"
      ]
    },
    {
      "cell_type": "code",
      "metadata": {
        "id": "JwPkwoN4YLzx",
        "colab_type": "code",
        "colab": {}
      },
      "source": [
        ""
      ],
      "execution_count": 0,
      "outputs": []
    }
  ]
}