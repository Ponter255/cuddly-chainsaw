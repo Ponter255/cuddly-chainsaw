{
  "nbformat": 4,
  "nbformat_minor": 0,
  "metadata": {
    "colab": {
      "name": "Linear Regression.ipynb",
      "provenance": [],
      "collapsed_sections": [],
      "authorship_tag": "ABX9TyNhqTL6eRNAV+3yzOKkVQjq",
      "include_colab_link": true
    },
    "kernelspec": {
      "name": "python3",
      "display_name": "Python 3"
    }
  },
  "cells": [
    {
      "cell_type": "markdown",
      "metadata": {
        "id": "view-in-github",
        "colab_type": "text"
      },
      "source": [
        "<a href=\"https://colab.research.google.com/github/Ponter255/cuddly-chainsaw/blob/master/Linear_Regression.ipynb\" target=\"_parent\"><img src=\"https://colab.research.google.com/assets/colab-badge.svg\" alt=\"Open In Colab\"/></a>"
      ]
    },
    {
      "cell_type": "markdown",
      "metadata": {
        "id": "AAKaB7ki1-ZC",
        "colab_type": "text"
      },
      "source": [
        "# **Linear Regression**\n",
        "---\n",
        "\n",
        "The objective of a linear regression model is to find a relationship between one or more features(independent variables) and a continuous target variable(dependent variable). When there is only feature it is called Uni-variate Linear Regression and if there are multiple features, it is called Multiple Linear Regression.\n",
        "\n",
        "## 1. Hypothesis of Linear Regression\n",
        "\n",
        "### $y = x_{0} + k_{1}x_{1} + k_{2}x_{2} + ... + k_{n}x_{n}$\n",
        "\n",
        "* $y$ is the predicted value\n",
        "* $x_{0}$ is the bias term.\n",
        "* $x_{1}$,…,$x_{n}$ are the model parameters\n",
        "* $k_{1}$, $k_{2}$,…,$k_{n}$ are the feature values.\n",
        "\n",
        "## 2. Dataset\n",
        "\n",
        "* Libraries"
      ]
    },
    {
      "cell_type": "code",
      "metadata": {
        "id": "GsLKPsQ018jH",
        "colab_type": "code",
        "colab": {}
      },
      "source": [
        "import pprint\n",
        "import pandas                as pd\n",
        "import pandas_profiling     \n",
        "import numpy                 as np\n",
        "import matplotlib.pyplot     as plt\n",
        "from tabulate                import tabulate\n",
        "from sklearn.datasets        import load_diabetes\n",
        "from sklearn                 import linear_model\n",
        "from sklearn.model_selection import train_test_split\n",
        "from sklearn.metrics         import mean_squared_error, r2_score\n",
        "from sklearn.preprocessing   import StandardScaler\n",
        "from sklearn.linear_model    import LinearRegression\n",
        "from sklearn.linear_model    import Ridge\n",
        "from sklearn.linear_model    import RidgeCV"
      ],
      "execution_count": 0,
      "outputs": []
    },
    {
      "cell_type": "markdown",
      "metadata": {
        "id": "WwiCuZOtZxlH",
        "colab_type": "text"
      },
      "source": [
        "* Information"
      ]
    },
    {
      "cell_type": "code",
      "metadata": {
        "id": "yyE6s1tkZ3uI",
        "colab_type": "code",
        "outputId": "ef430ff8-7ce0-44e7-e9cb-2c869f0c1523",
        "colab": {
          "base_uri": "https://localhost:8080/",
          "height": 34
        }
      },
      "source": [
        "diabetes_full = load_diabetes()\n",
        "print(diabetes_full.keys())"
      ],
      "execution_count": 110,
      "outputs": [
        {
          "output_type": "stream",
          "text": [
            "dict_keys(['data', 'target', 'DESCR', 'feature_names', 'data_filename', 'target_filename'])\n"
          ],
          "name": "stdout"
        }
      ]
    },
    {
      "cell_type": "markdown",
      "metadata": {
        "id": "I_3Z4tS6k6K3",
        "colab_type": "text"
      },
      "source": [
        ">* Description: Ten baseline variables, age, sex, body mass index, average blood pressure, and six blood serum measurements\n",
        ">* Target: A quantitative measure of disease progression one year after baseline\n",
        ">* The number of inputs should be the same of outputs (\"data\" and \"target\") \n",
        ">* Normalization refers to rescaling real valued numeric attributes into the range 0 and 1. In this dataset gender is refferred as numbers, thus normalized"
      ]
    },
    {
      "cell_type": "code",
      "metadata": {
        "id": "BIGJXeGYbeW6",
        "colab_type": "code",
        "outputId": "bae838c6-908f-47af-c1dd-9252fe5a9ffa",
        "colab": {
          "base_uri": "https://localhost:8080/",
          "height": 34
        }
      },
      "source": [
        "print(diabetes_full.feature_names)\n",
        "feature = diabetes_full.data.T \n",
        "age = feature[0]\n",
        "sex = feature[1]\n",
        "bmi = feature[2]\n",
        "bp  = feature[3]\n",
        "s1  = feature[4]\n",
        "s2  = feature[5]\n",
        "s3  = feature[6]\n",
        "s4  = feature[7]\n",
        "s5  = feature[8]\n",
        "s6  = feature[9]"
      ],
      "execution_count": 111,
      "outputs": [
        {
          "output_type": "stream",
          "text": [
            "['age', 'sex', 'bmi', 'bp', 's1', 's2', 's3', 's4', 's5', 's6']\n"
          ],
          "name": "stdout"
        }
      ]
    },
    {
      "cell_type": "code",
      "metadata": {
        "id": "zEkDJKweuiVW",
        "colab_type": "code",
        "outputId": "6fcc4e6c-e65b-468b-bf7e-e24ffd6ec8f9",
        "colab": {
          "base_uri": "https://localhost:8080/",
          "height": 34
        }
      },
      "source": [
        "len(diabetes_full.data)"
      ],
      "execution_count": 112,
      "outputs": [
        {
          "output_type": "execute_result",
          "data": {
            "text/plain": [
              "442"
            ]
          },
          "metadata": {
            "tags": []
          },
          "execution_count": 112
        }
      ]
    },
    {
      "cell_type": "code",
      "metadata": {
        "id": "2dRmUsWubrZF",
        "colab_type": "code",
        "outputId": "287fbb99-c2f9-4995-f008-e69602616d6f",
        "colab": {
          "base_uri": "https://localhost:8080/",
          "height": 34
        }
      },
      "source": [
        "len(diabetes_full.target)"
      ],
      "execution_count": 113,
      "outputs": [
        {
          "output_type": "execute_result",
          "data": {
            "text/plain": [
              "442"
            ]
          },
          "metadata": {
            "tags": []
          },
          "execution_count": 113
        }
      ]
    },
    {
      "cell_type": "markdown",
      "metadata": {
        "id": "G9LkkbJP-phl",
        "colab_type": "text"
      },
      "source": [
        "### *Pandas Profiling*\n",
        "\n",
        "Generate a very broadly structured HTML file containing most of data analysis before diving into a more specific and individual data exploration (for example, there are no missing data in this dataset)."
      ]
    },
    {
      "cell_type": "code",
      "metadata": {
        "id": "x8PicYmMvw8G",
        "colab_type": "code",
        "colab": {}
      },
      "source": [
        "#pandas_diabetes_data = pd.DataFrame(data= np.c_[diabetes_full['data'], diabetes_full['target']], columns= diabetes_full['feature_names'] + ['target'])\n",
        "#pandas_profiling.ProfileReport(pandas_diabetes_full)\n",
        "#print(diabetes_full.data.T[0])"
      ],
      "execution_count": 0,
      "outputs": []
    },
    {
      "cell_type": "markdown",
      "metadata": {
        "id": "C15HtseOKqga",
        "colab_type": "text"
      },
      "source": [
        "### *Tabulate*\n",
        "\n",
        "Generate a table with dateset organized in a way to better view the data."
      ]
    },
    {
      "cell_type": "code",
      "metadata": {
        "id": "dMk94Pke-tKy",
        "colab_type": "code",
        "colab": {}
      },
      "source": [
        "#print(tabulate(diabetes_full.data, headers=diabetes_full.feature_names, tablefmt=\"grid\" ))"
      ],
      "execution_count": 0,
      "outputs": []
    },
    {
      "cell_type": "markdown",
      "metadata": {
        "id": "sUGLDbALYL9I",
        "colab_type": "text"
      },
      "source": [
        "## 3. Algorithm\n",
        "\n",
        "Linear Regression model python algorithm"
      ]
    },
    {
      "cell_type": "code",
      "metadata": {
        "id": "p4G1Un-pOlO7",
        "colab_type": "code",
        "colab": {}
      },
      "source": [
        "diabetes_data, diabetes_target = load_diabetes(return_X_y=True)\n",
        "\n",
        "# Split into data train and data test\n",
        "data_train, data_test, target_train, target_test = train_test_split(diabetes_data, diabetes_target, test_size=0.30, random_state=0)\n",
        "\n",
        "#Pick up only one feature \n",
        "data_train = data_train[:, np.newaxis, 2]\n",
        "data_test  = data_test[:, np.newaxis, 2]\n",
        "\n",
        "#Scaler\n",
        "scaler = StandardScaler()\n",
        "\n",
        "# Create linear regression object\n",
        "regr = linear_model.LinearRegression()\n",
        "\n",
        "# Train the model using the training sets\n",
        "regr.fit(data_train, target_train)\n",
        "\n",
        "# Make prediction using the testing set\n",
        "diabetes_prediction = regr.predict(data_test)"
      ],
      "execution_count": 0,
      "outputs": []
    },
    {
      "cell_type": "markdown",
      "metadata": {
        "id": "T5c6ZCtKZCRc",
        "colab_type": "text"
      },
      "source": [
        "* Corresponding coefficient of each individual feature, ***coef_*** gives an array of weights estimated by linear regression."
      ]
    },
    {
      "cell_type": "code",
      "metadata": {
        "id": "yrerGQ0YYGq6",
        "colab_type": "code",
        "outputId": "a048fafe-c465-44e1-8e5b-b713167f4276",
        "colab": {
          "base_uri": "https://localhost:8080/",
          "height": 51
        }
      },
      "source": [
        "print('Coefficients: \\n', regr.coef_)"
      ],
      "execution_count": 117,
      "outputs": [
        {
          "output_type": "stream",
          "text": [
            "Coefficients: \n",
            " [1013.17358257]\n"
          ],
          "name": "stdout"
        }
      ]
    },
    {
      "cell_type": "markdown",
      "metadata": {
        "id": "eRbW-k60GDrz",
        "colab_type": "text"
      },
      "source": [
        "### Mean squared error\n",
        "\n",
        "Tells you how close a regression line is to a set of points. It does this by taking the distances from the points to the regression line (these distances are the “errors”) and squaring them. The squaring is necessary to remove any negative signs. It also gives more weight to larger differences. It’s called the mean squared error as you’re finding the average of a set of errors."
      ]
    },
    {
      "cell_type": "code",
      "metadata": {
        "id": "NnIApcWaGDGr",
        "colab_type": "code",
        "outputId": "3c294df8-3698-488f-87db-8b7d9e4519fc",
        "colab": {
          "base_uri": "https://localhost:8080/",
          "height": 34
        }
      },
      "source": [
        "print('Mean squared error: %.2f'% mean_squared_error(target_test, diabetes_prediction))"
      ],
      "execution_count": 118,
      "outputs": [
        {
          "output_type": "stream",
          "text": [
            "Mean squared error: 3921.37\n"
          ],
          "name": "stdout"
        }
      ]
    },
    {
      "cell_type": "markdown",
      "metadata": {
        "id": "uinw2XskMRbF",
        "colab_type": "text"
      },
      "source": [
        "### Coefficient of Determination (main regression score)\n",
        "\n",
        "* In statistics, the coefficient of determination, denoted $R^2$ and pronounced \"R squared\", is the proportion of the variance in the dependent variable that is predictable from the independent variable(s).\n",
        "\n",
        "* It provides a measure of how well observed outcomes are replicated by the model, based on the proportion of total variation of outcomes explained by the model.A value of 1.0 indicates a perfect fit,and a value of 0, would indicate that the model fails to accurately model the data at all \n",
        "\n",
        "$R^2 = ({\\frac{1}{n}*\\sum_{i=1}^n\\frac{[(x_{i} - \\overline{x})*(y_{i} - \\overline{y})]}{\\theta_{x}*\\theta_{y}}})^2$\n",
        "\n",
        "> Where \"n\" is the number of observations used to fit the model, $x_{i}$ is the $x$ value for observation i, $\\overline{x}$ is the mean $x$ value, $y_{i}$ is the $y$ value for observation i, $\\overline{x}$ is the mean $y$ value, $\\theta_{x}$ is the standard deviation of $x$, and $\\theta_{y}$ is the standard deviation of $y$."
      ]
    },
    {
      "cell_type": "code",
      "metadata": {
        "id": "vS7IyLb8MR5o",
        "colab_type": "code",
        "outputId": "fe4758a9-c522-4f36-8b70-d1f979b79652",
        "colab": {
          "base_uri": "https://localhost:8080/",
          "height": 51
        }
      },
      "source": [
        "# The coefficient of determination: 1 is perfect prediction\n",
        "print('Coefficient of determination: %.2f'% r2_score(target_test, diabetes_prediction))\n",
        "regr.score(data_train, target_train)"
      ],
      "execution_count": 119,
      "outputs": [
        {
          "output_type": "stream",
          "text": [
            "Coefficient of determination: 0.23\n"
          ],
          "name": "stdout"
        },
        {
          "output_type": "execute_result",
          "data": {
            "text/plain": [
              "0.3807751933514646"
            ]
          },
          "metadata": {
            "tags": []
          },
          "execution_count": 119
        }
      ]
    },
    {
      "cell_type": "markdown",
      "metadata": {
        "id": "ZG1xDI26NpG0",
        "colab_type": "text"
      },
      "source": [
        "## 4. Matplotlib\n",
        "\n",
        "Plot the dataset information in a way that the method that it is being applied to model the that can be easy verified and visualized through the distribution of the data in the graphs"
      ]
    },
    {
      "cell_type": "code",
      "metadata": {
        "id": "JwPkwoN4YLzx",
        "colab_type": "code",
        "outputId": "17216180-d33f-4e6b-b19f-041a30df7d44",
        "colab": {
          "base_uri": "https://localhost:8080/",
          "height": 269
        }
      },
      "source": [
        "%matplotlib inline\n",
        "plt.scatter(data_train, target_train,  color='grey')\n",
        "plt.scatter(data_test, target_test,  color='black')\n",
        "plt.plot(data_test, diabetes_prediction, color='red', linewidth=3)\n",
        "\n",
        "plt.show()"
      ],
      "execution_count": 120,
      "outputs": [
        {
          "output_type": "display_data",
          "data": {
            "image/png": "[encoded data removed]",
            "text/plain": [
              "<Figure size 432x288 with 1 Axes>"
            ]
          },
          "metadata": {
            "tags": []
          }
        }
      ]
    },
    {
      "cell_type": "markdown",
      "metadata": {
        "id": "y__4c6HmZlYH",
        "colab_type": "text"
      },
      "source": [
        "## 5. Hyperparameter Optimzation\n",
        "Linear Regression model optimization \n",
        "\n",
        "**LinearRegression(fit_intercept=True, normalize=False, copy_X=True, n_jobs=None)**\n",
        "\n",
        "* *fit_intercept*: bool, optional, default True\n",
        "\n",
        "> Whether to calculate the intercept for this model. If set to False, no intercept will be used in calculations (i.e. data is expected to be centered).\n",
        "\n",
        "* *normalize*: bool, optional, default False\n",
        "\n",
        "> This parameter is ignored when fit_intercept is set to False. If True, the regressors X will be normalized before regression by subtracting the mean and dividing by the l2-norm. If you wish to standardize, please use sklearn.preprocessing.StandardScaler before calling fit on an estimator with normalize=False.\n",
        "\n",
        "* *copy_X*: bool, optional, default True\n",
        "\n",
        "> If True, X will be copied; else, it may be overwritten.\n",
        "\n",
        "* *n_jobs*: int or None, optional (default=None)\n",
        "\n",
        "> The number of jobs to use for the computation. This will only provide speedup for n_targets > 1 and sufficient large problems. None means 1 unless in a joblib.parallel_backend context. -1 means using all processors. See Glossary for more details.\n",
        "\n"
      ]
    },
    {
      "cell_type": "code",
      "metadata": {
        "id": "M3PZ-rO0b35C",
        "colab_type": "code",
        "outputId": "4fad6aec-6e89-46b0-bf97-1c12b06066d9",
        "colab": {
          "base_uri": "https://localhost:8080/",
          "height": 51
        }
      },
      "source": [
        "regr2 = linear_model.LinearRegression(fit_intercept=True, normalize=False, copy_X=True, n_jobs=None)\n",
        "\n",
        "# Train the model using the training sets\n",
        "regr2.fit(data_train, target_train)\n",
        "\n",
        "# Make prediction using the testing set\n",
        "diabetes_prediction2 = regr2.predict(data_test)\n",
        "\n",
        "# The coefficient of determination: 1 is perfect prediction\n",
        "print('Coefficient of determination: %.3f'% r2_score(target_test, diabetes_prediction2))\n",
        "regr2.score(data_test, target_test)"
      ],
      "execution_count": 121,
      "outputs": [
        {
          "output_type": "stream",
          "text": [
            "Coefficient of determination: 0.231\n"
          ],
          "name": "stdout"
        },
        {
          "output_type": "execute_result",
          "data": {
            "text/plain": [
              "0.23132831307953805"
            ]
          },
          "metadata": {
            "tags": []
          },
          "execution_count": 121
        }
      ]
    },
    {
      "cell_type": "markdown",
      "metadata": {
        "id": "4f-xIFosI4LQ",
        "colab_type": "text"
      },
      "source": [
        "GRID of Linear Regression: for a test size of 4% of all the data\n",
        "\n",
        "> Score | fit_intercept | normalize | copy_X | n_jobs\n",
        ">--- | --- | --- | --- | ---\n",
        ">  0.43 | True  | True  | True  | None\n",
        ">  -3.09| False | True  | True  | None\n",
        ">  -3.09| False | False | True  | None\n",
        ">  -3.09| False | False | False | None\n",
        ">  0.43 | True  | False | False | None\n",
        ">  0.43 | True  | True  | False | None"
      ]
    },
    {
      "cell_type": "markdown",
      "metadata": {
        "id": "H-R-Tru3ETLM",
        "colab_type": "text"
      },
      "source": [
        "**Ridge(alpha=1.0, fit_intercept=True, normalize=False, copy_X=True, max_iter=None, tol=0.001, solver='auto', random_state=None)**\n",
        "\n",
        "* *alpha* = {float, ndarray of shape (n_targets,)}, default=1.0\n",
        "> Regularization strength; must be a positive float. \n",
        "\n",
        "Regularization improves the conditioning of the problem and reduces the variance of the estimates. Larger values specify stronger regularization. Alpha corresponds to $C^{-1}$ in other linear models such as LogisticRegression or LinearSVC. If an array is passed, penalties are assumed to be specific to the targets. Hence they must correspond in number.\n",
        "\n",
        "* *solver*{‘auto’, ‘svd’, ‘cholesky’, ‘lsqr’, ‘sparse_cg’, ‘sag’, ‘saga’}, default=’auto’\n",
        "\n"
      ]
    },
    {
      "cell_type": "code",
      "metadata": {
        "id": "UeNM4svQNqX2",
        "colab_type": "code",
        "outputId": "916f3069-9c47-402d-fec1-6f18862fbfcd",
        "colab": {
          "base_uri": "https://localhost:8080/",
          "height": 34
        }
      },
      "source": [
        "clf = Ridge(alpha=0, fit_intercept=True, normalize=False, copy_X=True, max_iter=None, tol=0.01, solver='sag', random_state=None)\n",
        "clf.fit(data_train, target_train)\n",
        "diabetes_prediction = clf.predict(data_test)\n",
        "\n",
        "# The coefficient of determination: 1 is perfect prediction\n",
        "print('Coefficient of determination: %.3f'% r2_score(target_test, diabetes_prediction))"
      ],
      "execution_count": 122,
      "outputs": [
        {
          "output_type": "stream",
          "text": [
            "Coefficient of determination: 0.233\n"
          ],
          "name": "stdout"
        }
      ]
    },
    {
      "cell_type": "markdown",
      "metadata": {
        "id": "cAF2oQ9qvLwS",
        "colab_type": "text"
      },
      "source": [
        "GRID of Ridge Linear Regression\n",
        "\n",
        "> Score (highest value) | Alpha | Solver \n",
        ">   --- |  ---  |  --- \n",
        ">  0.74 |  0   | sag\n",
        ">  0.53 |  0.5  | sag\n",
        ">  0.40 |  1.0  | sag \n",
        ">  0.32 | 1.5   | sag  \n",
        ">  0.25 |  2.0  | sag"
      ]
    },
    {
      "cell_type": "code",
      "metadata": {
        "id": "mRZh1xRkz7tS",
        "colab_type": "code",
        "outputId": "555b4181-56bd-4b6d-b576-b44d4cba6c99",
        "colab": {
          "base_uri": "https://localhost:8080/",
          "height": 269
        }
      },
      "source": [
        "%matplotlib inline\n",
        "plt.scatter(data_test, target_test,  color='black')\n",
        "#plt.scatter(data_train, target_train,  color='grey')\n",
        "plt.plot(data_test, diabetes_prediction, color='red', linewidth=3)\n",
        "\n",
        "plt.show()"
      ],
      "execution_count": 123,
      "outputs": [
        {
          "output_type": "display_data",
          "data": {
            "image/png": "[encoded data removed]",
            "text/plain": [
              "<Figure size 432x288 with 1 Axes>"
            ]
          },
          "metadata": {
            "tags": []
          }
        }
      ]
    }
  ]
}