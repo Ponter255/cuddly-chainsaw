{
  "nbformat": 4,
  "nbformat_minor": 0,
  "metadata": {
    "colab": {
      "name": "Natural Processing Language.ipynb",
      "provenance": [],
      "authorship_tag": "ABX9TyMCv8i8war6Jd5FLKvLg1cZ",
      "include_colab_link": true
    },
    "kernelspec": {
      "name": "python3",
      "display_name": "Python 3"
    }
  },
  "cells": [
    {
      "cell_type": "markdown",
      "metadata": {
        "id": "view-in-github",
        "colab_type": "text"
      },
      "source": [
        "<a href=\"https://colab.research.google.com/github/Ponter255/cuddly-chainsaw/blob/master/Natural_Processing_Language.ipynb\" target=\"_parent\"><img src=\"https://colab.research.google.com/assets/colab-badge.svg\" alt=\"Open In Colab\"/></a>"
      ]
    },
    {
      "cell_type": "markdown",
      "metadata": {
        "id": "MJq3YgQiG7O5",
        "colab_type": "text"
      },
      "source": [
        "# **Natural Processing Language (NLP)**\n",
        "\n",
        "* It is concerned with the interactions between computers and human (natural) languages, in particular how to program computers to process and analyze large amounts of natural language data. Challenges in natural language processing frequently involve speech recognition, natural language understanding, and natural language generation.\n",
        "\n",
        "* The objective of this notebook is to find out what is the page main topic\n"
      ]
    },
    {
      "cell_type": "code",
      "metadata": {
        "id": "aMSRVRi7G4te",
        "colab_type": "code",
        "outputId": "943721f3-35b4-4372-f6e9-b6fea9b2ad97",
        "colab": {
          "base_uri": "https://localhost:8080/",
          "height": 850
        }
      },
      "source": [
        "# Natural Language Processing packages\n",
        "import nltk\n",
        "import urllib.request\n",
        "from nltk.corpus       import stopwords\n",
        "from bs4               import BeautifulSoup\n",
        "nltk.download(\"popular\")"
      ],
      "execution_count": 51,
      "outputs": [
        {
          "output_type": "stream",
          "text": [
            "[nltk_data] Downloading collection 'popular'\n",
            "[nltk_data]    | \n",
            "[nltk_data]    | Downloading package cmudict to /root/nltk_data...\n",
            "[nltk_data]    |   Package cmudict is already up-to-date!\n",
            "[nltk_data]    | Downloading package gazetteers to /root/nltk_data...\n",
            "[nltk_data]    |   Package gazetteers is already up-to-date!\n",
            "[nltk_data]    | Downloading package genesis to /root/nltk_data...\n",
            "[nltk_data]    |   Package genesis is already up-to-date!\n",
            "[nltk_data]    | Downloading package gutenberg to /root/nltk_data...\n",
            "[nltk_data]    |   Package gutenberg is already up-to-date!\n",
            "[nltk_data]    | Downloading package inaugural to /root/nltk_data...\n",
            "[nltk_data]    |   Package inaugural is already up-to-date!\n",
            "[nltk_data]    | Downloading package movie_reviews to\n",
            "[nltk_data]    |     /root/nltk_data...\n",
            "[nltk_data]    |   Package movie_reviews is already up-to-date!\n",
            "[nltk_data]    | Downloading package names to /root/nltk_data...\n",
            "[nltk_data]    |   Package names is already up-to-date!\n",
            "[nltk_data]    | Downloading package shakespeare to /root/nltk_data...\n",
            "[nltk_data]    |   Package shakespeare is already up-to-date!\n",
            "[nltk_data]    | Downloading package stopwords to /root/nltk_data...\n",
            "[nltk_data]    |   Package stopwords is already up-to-date!\n",
            "[nltk_data]    | Downloading package treebank to /root/nltk_data...\n",
            "[nltk_data]    |   Package treebank is already up-to-date!\n",
            "[nltk_data]    | Downloading package twitter_samples to\n",
            "[nltk_data]    |     /root/nltk_data...\n",
            "[nltk_data]    |   Package twitter_samples is already up-to-date!\n",
            "[nltk_data]    | Downloading package omw to /root/nltk_data...\n",
            "[nltk_data]    |   Package omw is already up-to-date!\n",
            "[nltk_data]    | Downloading package wordnet to /root/nltk_data...\n",
            "[nltk_data]    |   Package wordnet is already up-to-date!\n",
            "[nltk_data]    | Downloading package wordnet_ic to /root/nltk_data...\n",
            "[nltk_data]    |   Package wordnet_ic is already up-to-date!\n",
            "[nltk_data]    | Downloading package words to /root/nltk_data...\n",
            "[nltk_data]    |   Package words is already up-to-date!\n",
            "[nltk_data]    | Downloading package maxent_ne_chunker to\n",
            "[nltk_data]    |     /root/nltk_data...\n",
            "[nltk_data]    |   Package maxent_ne_chunker is already up-to-date!\n",
            "[nltk_data]    | Downloading package punkt to /root/nltk_data...\n",
            "[nltk_data]    |   Package punkt is already up-to-date!\n",
            "[nltk_data]    | Downloading package snowball_data to\n",
            "[nltk_data]    |     /root/nltk_data...\n",
            "[nltk_data]    |   Package snowball_data is already up-to-date!\n",
            "[nltk_data]    | Downloading package averaged_perceptron_tagger to\n",
            "[nltk_data]    |     /root/nltk_data...\n",
            "[nltk_data]    |   Package averaged_perceptron_tagger is already up-\n",
            "[nltk_data]    |       to-date!\n",
            "[nltk_data]    | \n",
            "[nltk_data]  Done downloading collection popular\n"
          ],
          "name": "stdout"
        },
        {
          "output_type": "execute_result",
          "data": {
            "text/plain": [
              "True"
            ]
          },
          "metadata": {
            "tags": []
          },
          "execution_count": 51
        }
      ]
    },
    {
      "cell_type": "code",
      "metadata": {
        "id": "dx6EPPJBIOf8",
        "colab_type": "code",
        "colab": {}
      },
      "source": [
        "response =  urllib.request.urlopen('https://en.wikipedia.org/wiki/SpaceX')\n",
        "#response =  urllib.request.urlopen('https://en.wikipedia.org/wiki/Poland')\n",
        "html = response.read()\n",
        "#print(html)"
      ],
      "execution_count": 0,
      "outputs": []
    },
    {
      "cell_type": "markdown",
      "metadata": {
        "id": "gjzy287wGamY",
        "colab_type": "text"
      },
      "source": [
        "###Beautiful Soup\n",
        "\n",
        "* **soup.get_text()** extracts all the text from a page.\n",
        "\n",
        "* **split()** method returns a list of strings after breaking the given string by the specified separator."
      ]
    },
    {
      "cell_type": "code",
      "metadata": {
        "id": "cNw8GOwlJRWD",
        "colab_type": "code",
        "colab": {}
      },
      "source": [
        "soup = BeautifulSoup(html,'html5lib')\n",
        "text = soup.get_text(strip = True)\n",
        "#print(text)"
      ],
      "execution_count": 0,
      "outputs": []
    },
    {
      "cell_type": "code",
      "metadata": {
        "id": "3AS25JglIotU",
        "colab_type": "code",
        "colab": {}
      },
      "source": [
        "#what is t for t?\n",
        "tokens = [t for t in text.split()]\n",
        "#print(tokens)"
      ],
      "execution_count": 0,
      "outputs": []
    },
    {
      "cell_type": "markdown",
      "metadata": {
        "id": "seGy9_vEALtO",
        "colab_type": "text"
      },
      "source": [
        "###Count word Frequency\n",
        "\n",
        "* The nltk offers a function **FreqDist()** class which is used to encode “frequency distributions”, counting the number of times that each outcome of an experiment occurs.\n",
        "\n",
        "* Removing stop words (a, at, the, for etc) using **stopwords.words('english')** from the web page since they are not important to hamper our word frequency count. \n",
        "\n",
        "* Create a graph for most frequently occurring words in the webpage in order to get the clear picture of the context of the web page."
      ]
    },
    {
      "cell_type": "code",
      "metadata": {
        "id": "Zqy7adbIAMIk",
        "colab_type": "code",
        "colab": {
          "base_uri": "https://localhost:8080/",
          "height": 348
        },
        "outputId": "9fd0fe28-e647-4db4-8fae-11cef139b519"
      },
      "source": [
        "sr= stopwords.words('english')\n",
        "clean_tokens = tokens[:]\n",
        "for token in tokens:\n",
        "    if token in stopwords.words('english'):\n",
        "        clean_tokens.remove(token)\n",
        "\n",
        "freq = nltk.FreqDist(clean_tokens)\n",
        "freq.plot(20, cumulative=False)"
      ],
      "execution_count": 56,
      "outputs": [
        {
          "output_type": "display_data",
          "data": {
            "image/png": "[encoded data removed]",
            "text/plain": [
              "<Figure size 432x288 with 1 Axes>"
            ]
          },
          "metadata": {
            "tags": []
          }
        }
      ]
    },
    {
      "cell_type": "code",
      "metadata": {
        "id": "XLK761BIF6wT",
        "colab_type": "code",
        "colab": {}
      },
      "source": [
        "#for key,val in freq.items():\n",
        "    #print(str(key) + ':' + str(val))"
      ],
      "execution_count": 0,
      "outputs": []
    }
  ]
}